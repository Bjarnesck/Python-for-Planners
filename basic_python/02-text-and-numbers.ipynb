{
  "cells": [
    {
      "cell_type": "markdown",
      "metadata": {
        "id": "view-in-github",
        "colab_type": "text"
      },
      "source": [
        "<a href=\"https://colab.research.google.com/github/Esbern/Python-for-Planners/blob/main/basic_python/02-text-and-numbers.ipynb\" target=\"_parent\"><img src=\"https://colab.research.google.com/assets/colab-badge.svg\" alt=\"Open In Colab\"/></a>"
      ]
    },
    {
      "cell_type": "markdown",
      "id": "30dcdfc8-e043-4990-abb8-d8ea8e305637",
      "metadata": {
        "editable": true,
        "tags": [],
        "id": "30dcdfc8-e043-4990-abb8-d8ea8e305637"
      },
      "source": [
        "# Working with text and numbers\n",
        "\n",
        "Earlier in this chapter we saw how it is possible to combine character strings and numbers using the `+` operator between the different text components. Although this approach works, it can become quite laborious and error prone when you have a more complicated set of textual and/or numerical components that you work with. Hence, we next show a few useful techniques that make manipulating strings easier and more efficient.\n",
        "\n",
        "There are three approaches that can be used to manipulate strings in Python: (1) f-strings, (2) using the`.format()` method, and (3) using the `%` operator. We recommend using the f-string approach, but we also provide examples of the two other approaches because there are plenty of examples and code snippets on the web where these string formatting approaches are still used. Hence, it is good to be aware of them all. In addition, we show a few useful methods that make working with text in different ways possible."
      ]
    },
    {
      "cell_type": "markdown",
      "id": "6812dded-48b8-475c-baf4-3f230361c1f0",
      "metadata": {
        "editable": true,
        "tags": [],
        "id": "6812dded-48b8-475c-baf4-3f230361c1f0"
      },
      "source": [
        "## F-String formatting\n",
        "\n",
        "In the following, we show how we can combine the `station_name` text, the `station_id` integer number, and the `temp` floating point number together using Python's f-string formatting approach. In addition, we will round a decimal number (`temp`) to two decimal points on the fly."
      ]
    },
    {
      "cell_type": "code",
      "execution_count": 14,
      "id": "9ef26ae0-d6b9-44da-a860-6a53bf91238f",
      "metadata": {
        "editable": true,
        "tags": [],
        "colab": {
          "base_uri": "https://localhost:8080/"
        },
        "id": "9ef26ae0-d6b9-44da-a860-6a53bf91238f",
        "outputId": "a0110324-407f-4b8c-b89e-c46c386f7b33"
      },
      "outputs": [
        {
          "output_type": "stream",
          "name": "stdout",
          "text": [
            "The temperature at Helsinki Kaivopuisto (ID: 132310) is 18.57 Celsius.\n"
          ]
        }
      ],
      "source": [
        "# Station information\n",
        "station_name = \"Helsinki Kaivopuisto\"\n",
        "station_id = 132310\n",
        "\n",
        "# An example temperature with many decimals\n",
        "temp = 18.56789876\n",
        "\n",
        "# 1. The f-string approach (recommended)\n",
        "info_text = (\n",
        "    f\"The temperature at {station_name} (ID: {station_id}) is {temp:.2f} Celsius.\"\n",
        ")\n",
        "\n",
        "print(info_text)"
      ]
    },
    {
      "cell_type": "markdown",
      "id": "69c47d03-2a0a-485e-a9d7-20850c7e462e",
      "metadata": {
        "id": "69c47d03-2a0a-485e-a9d7-20850c7e462e"
      },
      "source": [
        "![_**Figure 2.2**. F-string formatting explained._](https://github.com/Esbern/Python-for-Planners/blob/main/img/f-string-annotated.png?raw=1)\n",
        "\n",
        "_**Figure 2.2**. F-string formatting explained._"
      ]
    },
    {
      "cell_type": "markdown",
      "id": "dcf26b27-0204-4eba-9143-02874f1b41a4",
      "metadata": {
        "id": "dcf26b27-0204-4eba-9143-02874f1b41a4"
      },
      "source": [
        "As you can see, using string formatting it is possible to easily modify a body of text \"interactively\" based on values stored in given variables. Figure 2.2 breaks down the different parts of the string. The text that you want to create and/or modify is enclosed within the quotes preceded with letter `f`. You can pass any existing variable inside the text template by placing the name of the variable within the curly braces `{}`. Using string formatting, it is also possible to insert numbers (such as `station_id` and `temp`) within the body of text without needing first to convert the data types to strings. This is because the f-string functionality kindly does the data type conversion for us in the background without us needing to worry about it (handy!).\n",
        "\n",
        "It is also possible to round numbers on the fly to specific precision, such as the two decimal points in our example, by adding the format specifier (`:.2f`) after the variable that we want to round. The format specifier works by first adding a colon (`:`) after the variable name, and then specifying with dot (`.`) that we want to round our value to 2 decimal places (can be any number of digits). The final character `f` in the format specifier defines the type of the formatting that will be done: the character `f` will display the value as a decimal number, the character `e` would make the number appear in scientific notation, while the character `%` would convert the value to percentage representation.\n",
        "\n",
        "As we have hopefully demonstrated, f-string formatting is easy to use, yet powerful with its capability to do data conversions on the fly, for example. Hence, it is the recommended approach for doing string manipulation presently in Python. Just remember to add the letter `f` before your string template!"
      ]
    },
    {
      "cell_type": "markdown",
      "id": "c964ec04-6a7b-4a8e-8d0f-ab3a8acd422a",
      "metadata": {
        "editable": true,
        "tags": [],
        "id": "c964ec04-6a7b-4a8e-8d0f-ab3a8acd422a"
      },
      "source": [
        "## Older approaches for string formatting\n",
        "\n",
        "As mentioned previously, there are also a couple of other approaches that can be used to achieve the same result as above. These older approaches preceded the f-string, which was introduced in Python version 3.6. The first one is the `.format()` method, which is placed after the string in quotes, like this:"
      ]
    },
    {
      "cell_type": "code",
      "execution_count": 15,
      "id": "fbeae5af-4b3a-4a83-a038-738eea2cc76d",
      "metadata": {
        "editable": true,
        "tags": [],
        "colab": {
          "base_uri": "https://localhost:8080/"
        },
        "id": "fbeae5af-4b3a-4a83-a038-738eea2cc76d",
        "outputId": "de757bae-a1a2-42d2-86fc-d9896b0b43f9"
      },
      "outputs": [
        {
          "output_type": "stream",
          "name": "stdout",
          "text": [
            "The temperature at Helsinki Kaivopuisto (ID: 132310) is 18.57.\n"
          ]
        }
      ],
      "source": [
        "# 2. .format() approach (no longer recommended)\n",
        "text2 = (\n",
        "    \"The temperature at {my_text_variable} (ID: {station_id}) is {temp:.2f}.\".format(\n",
        "        my_text_variable=station_name, station_id=station_id, temp=temp\n",
        "    )\n",
        ")\n",
        "print(text2)"
      ]
    },
    {
      "cell_type": "markdown",
      "id": "68976054-b6cd-40a4-ba1f-b2bc950185f8",
      "metadata": {
        "id": "68976054-b6cd-40a4-ba1f-b2bc950185f8"
      },
      "source": [
        "As you can see, here we get the same result as we did with an f-string, but we used the `.format()` placed after the quotes. The variables were inserted within the text template using curly braces and giving them a name (placeholder) which is expected to have a matching counterpart within the `.format()` parentheses that link to the variable value that will be inserted in the body of text. As you see, the placeholder does not necessarily need to have the same name as the actual variable that contains the inserted value, but it can be anything, like the name `my_text_variable` as in the example above.\n",
        "\n",
        "The last (historical) string formatting approach is to use the `%s` operator. In this approach, the placeholder `%s` is added within the quotes, and the variables that are inserted into the body of text are placed inside parentheses after the `%` operator, like this:"
      ]
    },
    {
      "cell_type": "code",
      "execution_count": 16,
      "id": "af9f5912-4c7e-401b-acf6-7be52ad2951f",
      "metadata": {
        "editable": true,
        "tags": [],
        "colab": {
          "base_uri": "https://localhost:8080/"
        },
        "id": "af9f5912-4c7e-401b-acf6-7be52ad2951f",
        "outputId": "b2eb1522-8d93-4b89-e130-18955019112a"
      },
      "outputs": [
        {
          "output_type": "stream",
          "name": "stdout",
          "text": [
            "The temperature at Helsinki Kaivopuisto (ID: 132310) is 18.57\n"
          ]
        }
      ],
      "source": [
        "# 3. The % operator approach (no longer recommended)\n",
        "text3 = \"The temperature at %s (ID: %s) is %.2f\" % (station_name, station_id, temp)\n",
        "print(text3)"
      ]
    },
    {
      "cell_type": "markdown",
      "id": "d8789eee-0b80-4b62-a78b-5e362a83d899",
      "metadata": {
        "id": "d8789eee-0b80-4b62-a78b-5e362a83d899"
      },
      "source": [
        "The order of the variables within the parentheses specify which `%s` placeholder will receive what information. The order of the variables inside parentheses needs to be corrected always if making changes to the placing of the placeholders, and there should be exactly the same number of variables within the parentheses as there are `%s` placeholders within the text template. Hence, this approach is prone to errors and causing confusion, which is why we do not recommend using it.  \n",
        "\n",
        "To conclude, using the f-string approach is the easiest and most intuitive way to construct and format text. Hence, we highly recommend learning that approach and sticking with it."
      ]
    },
    {
      "cell_type": "markdown",
      "id": "ce5097c3-d4ac-4559-b61a-6ded64ccf2a7",
      "metadata": {
        "editable": true,
        "tags": [],
        "id": "ce5097c3-d4ac-4559-b61a-6ded64ccf2a7"
      },
      "source": [
        "## Manipulating character strings\n",
        "\n",
        "Here we demonstrate some of the most useful string manipulation techniques, such as splitting strings based on a given character, replacing characters with new ones, slicing strings, concatenating strings, etc.\n",
        "The aim is to produce two lines of text that contain a list of weather station locations in Helsinki in uppercase:\n",
        "\n",
        "```\n",
        "Our selection includes 3 weather stations (KUMPULA, KAISANIEMI, HARMAJA).\n",
        "The first observation is from 01/01/1882.\n",
        "```\n",
        "\n",
        "The text that we will begin working with is below."
      ]
    },
    {
      "cell_type": "code",
      "execution_count": null,
      "id": "5478d9fd-7c1c-499e-9249-4274bb458040",
      "metadata": {
        "editable": true,
        "tags": [],
        "id": "5478d9fd-7c1c-499e-9249-4274bb458040"
      },
      "outputs": [],
      "source": [
        "text = \"Stations: Helsinki Kumpula, Helsinki Kaisaniemi, Helsinki Harmaja\""
      ]
    },
    {
      "cell_type": "markdown",
      "id": "1d82eacf-8b72-440f-aede-c63ba2e31f3c",
      "metadata": {
        "editable": true,
        "tags": [],
        "id": "1d82eacf-8b72-440f-aede-c63ba2e31f3c"
      },
      "source": [
        "### Splitting strings\n",
        "\n",
        "Let's start by demonstrating how we can split a string into different parts based on specific character(s). We can split the given text using the colon character (`:`) by passing the character into a method called `.split()`."
      ]
    },
    {
      "cell_type": "code",
      "execution_count": null,
      "id": "acbb39a5-1562-456b-892e-0caedb845742",
      "metadata": {
        "editable": true,
        "tags": [],
        "id": "acbb39a5-1562-456b-892e-0caedb845742",
        "outputId": "d8a7219a-a23e-48b9-d132-b8a8fe08d9bd"
      },
      "outputs": [
        {
          "data": {
            "text/plain": [
              "['Stations', ' Helsinki Kumpula, Helsinki Kaisaniemi, Helsinki Harmaja']"
            ]
          },
          "execution_count": 5,
          "metadata": {},
          "output_type": "execute_result"
        }
      ],
      "source": [
        "splitted = text.split(\":\")\n",
        "splitted"
      ]
    },
    {
      "cell_type": "code",
      "execution_count": null,
      "id": "acbf666f-88a1-478c-b87a-d729c407eb5f",
      "metadata": {
        "id": "acbf666f-88a1-478c-b87a-d729c407eb5f",
        "outputId": "7c84e5aa-f463-4907-cb7a-f54e59b51152"
      },
      "outputs": [
        {
          "data": {
            "text/plain": [
              "list"
            ]
          },
          "execution_count": 6,
          "metadata": {},
          "output_type": "execute_result"
        }
      ],
      "source": [
        "type(splitted)"
      ]
    },
    {
      "cell_type": "markdown",
      "id": "111b9979-d6cb-4fd7-a3cd-6d730f44e2ca",
      "metadata": {
        "editable": true,
        "tags": [],
        "id": "111b9979-d6cb-4fd7-a3cd-6d730f44e2ca"
      },
      "source": [
        "As a result, the body of text was split into two parts in a list, where the first item (at index 0) now has the text `Stations` (i.e., the text preceeding the colon) and the second item (at index 1) contains the body of text listing the stations that are separated by commas."
      ]
    },
    {
      "cell_type": "markdown",
      "id": "060b2057-dabf-410b-80a0-7a191a9e0172",
      "metadata": {
        "editable": true,
        "tags": [],
        "id": "060b2057-dabf-410b-80a0-7a191a9e0172"
      },
      "source": [
        "### Slicing strings\n",
        "\n",
        "Now we can continue working towards our goal by selecting the stations text from the `splitted` list at index 1."
      ]
    },
    {
      "cell_type": "code",
      "execution_count": null,
      "id": "76df78ba-1d6d-4844-9c98-97b185bea127",
      "metadata": {
        "editable": true,
        "tags": [],
        "id": "76df78ba-1d6d-4844-9c98-97b185bea127",
        "outputId": "95948064-6ff4-4f3c-c9be-2000648c3c52"
      },
      "outputs": [
        {
          "data": {
            "text/plain": [
              "' Helsinki Kumpula, Helsinki Kaisaniemi, Helsinki Harmaja'"
            ]
          },
          "execution_count": 7,
          "metadata": {},
          "output_type": "execute_result"
        }
      ],
      "source": [
        "stations_text = splitted[1]\n",
        "stations_text"
      ]
    },
    {
      "cell_type": "markdown",
      "id": "3afb8f6a-d59a-48e2-b0d5-bf5df3222add",
      "metadata": {
        "editable": true,
        "tags": [],
        "id": "3afb8f6a-d59a-48e2-b0d5-bf5df3222add"
      },
      "source": [
        "As can be seen, the first character in our string is actually an empty space (' ') before the word Helsinki. We can remove that character easily by slicing the text. Each character in a character string can be accessed based on its position (index) in the same way as with the Python lists that were introduced earlier in this chapter. We can slice our word by specifying that we want to keep all characters after the first position (i.e., removing the empty space). We can do this by adding the position inside square brackets (`[]`) where we want to start accessing the text, and by adding a colon (`:`) after this number, we can specify that we want to keep all the rest of the characters in our text (i.e., we take a slice of it)."
      ]
    },
    {
      "cell_type": "code",
      "execution_count": null,
      "id": "be6625d3-8a48-4432-8286-0f156cdbfdd8",
      "metadata": {
        "editable": true,
        "tags": [],
        "id": "be6625d3-8a48-4432-8286-0f156cdbfdd8",
        "outputId": "ea211f39-5e10-42ba-ed2b-e8005a833fca"
      },
      "outputs": [
        {
          "data": {
            "text/plain": [
              "'Helsinki Kumpula, Helsinki Kaisaniemi, Helsinki Harmaja'"
            ]
          },
          "execution_count": 8,
          "metadata": {},
          "output_type": "execute_result"
        }
      ],
      "source": [
        "stations_text = stations_text[1:]\n",
        "stations_text"
      ]
    },
    {
      "cell_type": "markdown",
      "id": "65185dcb-82b8-431e-ac2f-064a6f35bfad",
      "metadata": {
        "editable": true,
        "tags": [],
        "id": "65185dcb-82b8-431e-ac2f-064a6f35bfad"
      },
      "source": [
        "Now we have accessed and stored all the characters starting from position index 1, and hence dropped the first empty space. An alternative approach for achieving this would be to use a method called `.strip()`. You could also specify a specific range of characters that you want to slice from the word by adding the index position after the colon (e.g. `[1:9]` would have separated the word `Helsinki` from the text)."
      ]
    },
    {
      "cell_type": "markdown",
      "id": "c20238e6-58f2-4a94-b20d-9e922b469656",
      "metadata": {
        "editable": true,
        "tags": [],
        "id": "c20238e6-58f2-4a94-b20d-9e922b469656"
      },
      "source": [
        "### Replacing text in strings\n",
        "\n",
        "Currently in the processed text, the word `Helsinki` is repeated multiple times before the station names. We can easily remove this word by replacing the word `Helsinki` with an empty string (`\"\"`), which will basically delete this word from the text. We can accomplish this by using a method called `.replace()` which takes an original word as the first argument and a replacement word (or character(s)) as the second argument. Note here that we also include the space after \"Helsinki\" in the text that will be replaced."
      ]
    },
    {
      "cell_type": "code",
      "execution_count": null,
      "id": "1dcae456-5a23-44a2-b57c-dbaaa60ce001",
      "metadata": {
        "editable": true,
        "tags": [],
        "id": "1dcae456-5a23-44a2-b57c-dbaaa60ce001",
        "outputId": "f20d1d94-ff1b-4671-ae77-99bda641a9f8"
      },
      "outputs": [
        {
          "data": {
            "text/plain": [
              "'Kumpula, Kaisaniemi, Harmaja'"
            ]
          },
          "execution_count": 9,
          "metadata": {},
          "output_type": "execute_result"
        }
      ],
      "source": [
        "stations_text = stations_text.replace(\"Helsinki \", \"\")\n",
        "stations_text"
      ]
    },
    {
      "cell_type": "markdown",
      "id": "b266eafc-2e67-496c-936d-20ae2e58503e",
      "metadata": {
        "editable": true,
        "tags": [],
        "id": "b266eafc-2e67-496c-936d-20ae2e58503e"
      },
      "source": [
        "Now we have replaced the word `\"Helsinki \"` with nothing (an empty string), and as a result we have text where only the station names are listed."
      ]
    },
    {
      "cell_type": "markdown",
      "id": "12b80362-ca85-42ba-9d84-b35f2742cf8e",
      "metadata": {
        "editable": true,
        "tags": [],
        "id": "12b80362-ca85-42ba-9d84-b35f2742cf8e"
      },
      "source": [
        "### Changing the string case\n",
        "\n",
        "Finally, we can easily change the text to uppercase using a method called `.upper()`. Similarly, we could make the text all lowercase or capitalize only the first character using `.lower()` or `.capitalize()`, respectively."
      ]
    },
    {
      "cell_type": "code",
      "execution_count": null,
      "id": "4444a845-96dc-49c7-84e7-496dce24398f",
      "metadata": {
        "editable": true,
        "tags": [],
        "id": "4444a845-96dc-49c7-84e7-496dce24398f",
        "outputId": "4fc90629-d8ca-41fd-c574-93bfb2371820"
      },
      "outputs": [
        {
          "name": "stdout",
          "output_type": "stream",
          "text": [
            "KUMPULA, KAISANIEMI, HARMAJA\n",
            "kumpula, kaisaniemi, harmaja\n",
            "Kumpula, kaisaniemi, harmaja\n"
          ]
        }
      ],
      "source": [
        "stations_upper = stations_text.upper()\n",
        "stations_lower = stations_text.lower()\n",
        "stations_capitalize = stations_lower.capitalize()\n",
        "\n",
        "print(stations_upper)\n",
        "print(stations_lower)\n",
        "print(stations_capitalize)"
      ]
    },
    {
      "cell_type": "markdown",
      "id": "b6648bc9-098f-43d6-9bf8-b4cf3c7b213f",
      "metadata": {
        "editable": true,
        "tags": [],
        "id": "b6648bc9-098f-43d6-9bf8-b4cf3c7b213f"
      },
      "source": [
        "### Concatenating strings\n",
        "\n",
        "Although most mathematical operations are applied to numerical values, a common way to combine (or concatenate) character strings is using the addition operator `+`. Let's try to complete our task of creating our target sentences by concatenating three separate character strings into one. As a reminder, the text we are aiming to produce reads:\n",
        "\n",
        "```\n",
        "Our selection includes 3 weather stations (KUMPULA, KAISANIEMI, HARMAJA).\n",
        "The first observation is from 01/01/1882.\n",
        "```\n",
        "\n",
        "We can first define some values we will need to create the target text."
      ]
    },
    {
      "cell_type": "code",
      "execution_count": null,
      "id": "05d9e1bf-0b47-4eb6-a152-6c31d878bc18",
      "metadata": {
        "id": "05d9e1bf-0b47-4eb6-a152-6c31d878bc18"
      },
      "outputs": [],
      "source": [
        "first_day = \"1\"\n",
        "first_month = \"1\"\n",
        "first_year = \"1882\"\n",
        "number_of_stations = \"3\""
      ]
    },
    {
      "cell_type": "markdown",
      "id": "a8ec3923-4614-4dd9-94df-4759e37c266d",
      "metadata": {
        "id": "a8ec3923-4614-4dd9-94df-4759e37c266d"
      },
      "source": [
        "Note that if we were working with numerical values we would need to convert them to character strings using the `str()` function. Luckily, we already have character strings, so we can proceed with creating our sentences.\n",
        "\n",
        "As you may have noticed, our date should have the day and month represented with two characters (i.e., with a leading zero). We could use the `+` operator to add together `\"0\"` and our day or month value (e.g., `first_day = \"0\" + first_day`), however adding leading zeros to text is a common operation for ensuring consistent widths of text in data files, for example. Because of this, we can use the `.zfill()` function for strings to add leading zeros to our day and month values, as shown below."
      ]
    },
    {
      "cell_type": "code",
      "execution_count": null,
      "id": "762b2cfc-f8da-4291-a52d-86622b088959",
      "metadata": {
        "id": "762b2cfc-f8da-4291-a52d-86622b088959"
      },
      "outputs": [],
      "source": [
        "first_day = first_day.zfill(2)\n",
        "first_month = first_month.zfill(2)"
      ]
    },
    {
      "cell_type": "code",
      "execution_count": null,
      "id": "bc6d4c0a-e049-4bd3-8e4b-05d5ae8bcd28",
      "metadata": {
        "id": "bc6d4c0a-e049-4bd3-8e4b-05d5ae8bcd28",
        "outputId": "15e11b06-ad5c-4692-97c1-34ad692a9d26"
      },
      "outputs": [
        {
          "data": {
            "text/plain": [
              "'01'"
            ]
          },
          "execution_count": 13,
          "metadata": {},
          "output_type": "execute_result"
        }
      ],
      "source": [
        "first_day"
      ]
    },
    {
      "cell_type": "markdown",
      "id": "b611c6e7-4324-484b-94b4-5ff3449a12bf",
      "metadata": {
        "id": "b611c6e7-4324-484b-94b4-5ff3449a12bf"
      },
      "source": [
        "As you can see, the `.zfill()` function adds leading zeros before a number up to the number of characters specified when using it. In our case, we specified we want `2` characters, so one leading zero was added to our character strings. At this point, we can create a date string we can use for creating our sentences."
      ]
    },
    {
      "cell_type": "code",
      "execution_count": null,
      "id": "73098ae9-2da2-4b46-8277-98a72f8ffc28",
      "metadata": {
        "id": "73098ae9-2da2-4b46-8277-98a72f8ffc28",
        "outputId": "b29d1ae1-3259-43a2-a892-7a27d1237ee3"
      },
      "outputs": [
        {
          "data": {
            "text/plain": [
              "'01/01/1882'"
            ]
          },
          "execution_count": 14,
          "metadata": {},
          "output_type": "execute_result"
        }
      ],
      "source": [
        "date = first_day + \"/\" + first_month + \"/\" + first_year\n",
        "date"
      ]
    },
    {
      "cell_type": "markdown",
      "id": "98294e72-6f96-4d10-b0e9-62d233e6c017",
      "metadata": {
        "id": "98294e72-6f96-4d10-b0e9-62d233e6c017"
      },
      "source": [
        "Looks good. Now we can define the remaining pieces needed to create our sentences and concatenate them to form the target sentences. Note that we want to have the second sentence on a separate line, which means we will need to insert a special character to split the text onto two lines. For this, we can use the newline character `\\n`, which indicates the end of a line. Text that follows the newline character will appear on a separate line. In our example, we can simply include `\\n` in the character string where we would like the line to be split."
      ]
    },
    {
      "cell_type": "code",
      "execution_count": null,
      "id": "284b811d-a4f1-4aea-b498-f5d4bbe1e72e",
      "metadata": {
        "id": "284b811d-a4f1-4aea-b498-f5d4bbe1e72e"
      },
      "outputs": [],
      "source": [
        "first_part = \"Our selection includes \" + number_of_stations\n",
        "second_part = \" weather stations (\" + stations_upper + \").\\n\"\n",
        "third_part = \"The first observation is from \" + date + \".\""
      ]
    },
    {
      "cell_type": "code",
      "execution_count": null,
      "id": "6987cfc7-57fa-435f-bb8a-3a03e066f505",
      "metadata": {
        "editable": true,
        "tags": [],
        "id": "6987cfc7-57fa-435f-bb8a-3a03e066f505",
        "outputId": "ebc10485-8a6c-4b6f-879c-bddf37bc9294"
      },
      "outputs": [
        {
          "name": "stdout",
          "output_type": "stream",
          "text": [
            "Our selection includes 3 weather stations (KUMPULA, KAISANIEMI, HARMAJA).\n",
            "The first observation is from 01/01/1882.\n"
          ]
        }
      ],
      "source": [
        "sentences = first_part + second_part + third_part\n",
        "print(sentences)"
      ]
    },
    {
      "cell_type": "markdown",
      "id": "9549e138-5a9b-4c80-a370-ff1400199c6c",
      "metadata": {
        "id": "9549e138-5a9b-4c80-a370-ff1400199c6c"
      },
      "source": [
        "Nice! By simply breaking down the sentence into smaller character string segments we were able to use the `+` operator to create two sentences containing several numerical values combined in various ways. It is important to pay attention to spaces and characters such as parentheses, if you have them in your string, but otherwise string concatenation is an easy way to build more complex strings from smaller pieces."
      ]
    }
  ],
  "metadata": {
    "kernelspec": {
      "display_name": "Python 3 (ipykernel)",
      "language": "python",
      "name": "python3"
    },
    "language_info": {
      "codemirror_mode": {
        "name": "ipython",
        "version": 3
      },
      "file_extension": ".py",
      "mimetype": "text/x-python",
      "name": "python",
      "nbconvert_exporter": "python",
      "pygments_lexer": "ipython3",
      "version": "3.12.5"
    },
    "colab": {
      "provenance": [],
      "include_colab_link": true
    }
  },
  "nbformat": 4,
  "nbformat_minor": 5
}