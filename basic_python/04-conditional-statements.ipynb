{
  "cells": [
    {
      "cell_type": "markdown",
      "metadata": {
        "id": "view-in-github",
        "colab_type": "text"
      },
      "source": [
        "<a href=\"https://colab.research.google.com/github/Esbern/Python-for-Planners/blob/main/basic_python/04-conditional-statements.ipynb\" target=\"_parent\"><img src=\"https://colab.research.google.com/assets/colab-badge.svg\" alt=\"Open In Colab\"/></a>"
      ]
    },
    {
      "cell_type": "markdown",
      "metadata": {
        "editable": true,
        "tags": [],
        "id": "AGVEZLBrqemB"
      },
      "source": [
        "# Conditional statements\n",
        "\n",
        "In this section, we will learn how to make choices in our code using conditional statements (`if`, `elif`, `else`) and Boolean values (`True`, `False`).\n"
      ]
    },
    {
      "cell_type": "markdown",
      "metadata": {
        "editable": true,
        "tags": [],
        "id": "eA8F4Pe1qemC"
      },
      "source": [
        "## Basics of conditional statements\n",
        "\n",
        "Conditional statements can change the code behaviour based on certain conditions. The idea is simple: If a condition is met, then a set of actions will be performed."
      ]
    },
    {
      "cell_type": "markdown",
      "metadata": {
        "editable": true,
        "tags": [],
        "id": "wZ3pTWxCqemC"
      },
      "source": [
        "### A simple conditional statement\n",
        "\n",
        "Let’s look at a simple example with temperatures, and check if a temperature of 17 degrees Celsius is hot or not."
      ]
    },
    {
      "cell_type": "code",
      "execution_count": null,
      "metadata": {
        "editable": true,
        "tags": [],
        "id": "8RpnML-NqemD",
        "outputId": "5c985224-c1fd-4a2d-83e2-6bfaba7813a1"
      },
      "outputs": [
        {
          "name": "stdout",
          "output_type": "stream",
          "text": [
            "17 is not hot!\n"
          ]
        }
      ],
      "source": [
        "temperature = 17\n",
        "\n",
        "if temperature > 25:\n",
        "    print(f\"{temperature} is hot!\")\n",
        "else:\n",
        "    print(f\"{temperature} is not hot!\")"
      ]
    },
    {
      "cell_type": "markdown",
      "metadata": {
        "editable": true,
        "tags": [],
        "id": "dm8qSF6QqemD"
      },
      "source": [
        "What did we do here? First, we used the `if` and `else` statements to determine what parts of the code to execute. The `if` statement checks to see whether the variable value for `temperature` is greater than 25 (hot by northern European standards). If this condition is true, `'17 is hot'` will be written to the screen. Since 17 is smaller than 25, the `if` condition is false and thus the code beneath the `else` statement is executed. The code under the `else` statement will run whenever the `if` condition is false."
      ]
    },
    {
      "cell_type": "markdown",
      "metadata": {
        "editable": true,
        "tags": [],
        "id": "04CPNj_eqemD"
      },
      "source": [
        "Let's update `temperature` to a \"hot\" temperature and repeat the same process."
      ]
    },
    {
      "cell_type": "code",
      "execution_count": null,
      "metadata": {
        "editable": true,
        "tags": [],
        "id": "1iw2XLJoqemD",
        "outputId": "308c52e2-aaf9-4685-c38d-e3219bcac78f"
      },
      "outputs": [
        {
          "name": "stdout",
          "output_type": "stream",
          "text": [
            "30 is hot!\n"
          ]
        }
      ],
      "source": [
        "temperature = 30\n",
        "\n",
        "if temperature > 25:\n",
        "    print(f\"{temperature} is hot!\")\n",
        "else:\n",
        "    print(f\"{temperature} is not hot!\")"
      ]
    },
    {
      "cell_type": "markdown",
      "metadata": {
        "editable": true,
        "tags": [],
        "id": "tpeAE5zPqemD"
      },
      "source": [
        "In this case, the `if` statement is true and thus `'30 is hot'` is printed."
      ]
    },
    {
      "cell_type": "markdown",
      "metadata": {
        "editable": true,
        "tags": [],
        "id": "Gv34c-ZiqemE"
      },
      "source": [
        "How about `if` without `else`? The combination of `if` and `else` is very common, but the `else` statement is not strictly required. Python simply does nothing if the `if` statement is false and there is no `else` statement."
      ]
    },
    {
      "cell_type": "code",
      "execution_count": null,
      "metadata": {
        "editable": true,
        "tags": [],
        "id": "kLAhmYX4qemE"
      },
      "outputs": [],
      "source": [
        "temperature = 17\n",
        "\n",
        "if temperature > 25:\n",
        "    print(f\"{temperature} is greater than 25\")"
      ]
    },
    {
      "cell_type": "markdown",
      "metadata": {
        "editable": true,
        "tags": [],
        "id": "xvtPomyrqemE"
      },
      "source": [
        "Makes sense, right? Conditional statements always check if the conditional expression evaluates as `True` or `False`. If true, the codeblock under the conditional statement gets executed. In this example, nothing is printed to the screen if temperature is smaller than 25."
      ]
    },
    {
      "cell_type": "markdown",
      "metadata": {
        "editable": true,
        "tags": [],
        "id": "jHZhG_5yqemE"
      },
      "source": [
        "Let's look at another example from our daily lives. As it turns out, we all use logic similar to `if` and `else` conditional statements daily. Imagine you’re getting ready to leave your home for the day and want to decide what to wear. You might look outside to check the weather conditions. If it is raining, you will wear a rain jacket.\n",
        "Otherwise, you will not. Python uses the `==` operator to test if a value is exactly equal to another."
      ]
    },
    {
      "cell_type": "code",
      "execution_count": null,
      "metadata": {
        "id": "B0eKhH3JqemE",
        "outputId": "f1d59db5-5cba-47cc-dcc0-69b21a4e7276"
      },
      "outputs": [
        {
          "name": "stdout",
          "output_type": "stream",
          "text": [
            "Wear a raincoat!\n"
          ]
        }
      ],
      "source": [
        "weather = \"rain\"\n",
        "\n",
        "if weather == \"rain\":\n",
        "    print(\"Wear a raincoat!\")\n",
        "else:\n",
        "    print(\"No raincoat needed.\")"
      ]
    },
    {
      "cell_type": "markdown",
      "metadata": {
        "id": "0QTThWNoqemE"
      },
      "source": [
        "As with `for` loops, Python uses colons (`:`) and white space (indentations) to structure conditional statements. If the condition is `True`, the indented code block after the colon (`:`) is executed. The code block may contain several lines of code, but they all must be indented equally. You will receive an `IndentationError`, a `SyntaxError`, or unwanted behavior if you haven't indented your code correctly.\n",
        "\n",
        "Note also that the case of the text being compared (uppercase or lowercase) is important. For instance, in the example above, if we define `weather = \"Rain\"`, the comparison `weather == \"rain\"` would be false. One possible solution to this problem is to use the `.lower()` method for strings, which would convert the text to which it is applied to lowercase. In the example here, if we define `weather = \"Rain\"`, the comparison `weather.lower() == \"rain\"` would be true!"
      ]
    },
    {
      "cell_type": "markdown",
      "metadata": {
        "editable": true,
        "tags": [
          "question"
        ],
        "id": "0kx7TghhqemE"
      },
      "source": [
        "#### Question 2.9\n",
        "\n",
        "We might also need some other rain gear on a rainy day. Think about how you could add another instruction after the `weather == \"rain\"` condition so that the code would tell us to:\n",
        "\n",
        "```\n",
        "Wear a raincoat\n",
        "Wear rain boots\n",
        "```"
      ]
    },
    {
      "cell_type": "code",
      "execution_count": null,
      "metadata": {
        "editable": true,
        "tags": [
          "remove_cell"
        ],
        "id": "ZcgVkoNmqemE"
      },
      "outputs": [],
      "source": [
        "# Use this cell to enter your solution."
      ]
    },
    {
      "cell_type": "code",
      "execution_count": null,
      "metadata": {
        "tags": [
          "hide-cell",
          "remove_book_cell"
        ],
        "id": "ZMiA2hd0qemF",
        "outputId": "d6c17a90-dc47-404f-c818-d5057f5c7a04",
        "cellView": "form"
      },
      "outputs": [
        {
          "name": "stdout",
          "output_type": "stream",
          "text": [
            "Wear a raincoat\n",
            "Wear rain boots\n"
          ]
        }
      ],
      "source": [
        "#@title Solution\n",
        "\n",
        "weather = \"rain\"\n",
        "\n",
        "if weather == \"rain\":\n",
        "    print(\"Wear a raincoat\")\n",
        "    print(\"Wear rain boots\")\n",
        "else:\n",
        "    print(\"No rainwear needed\")"
      ]
    },
    {
      "cell_type": "markdown",
      "metadata": {
        "id": "DdeUyk8VqemF"
      },
      "source": [
        "### Comparison operators\n",
        "\n",
        "Comparison operators such as `>` and `==` compare the values on each side of the operator. Table 2.3 lists operators used for value comparisons in Python:\n",
        "\n",
        ": _**Table 2.3**. Comparison operators in Python._\n",
        "\n",
        "| Operator | Description              | Comparison example | Result  |\n",
        "|:--------:|:-------------------------|:------------------:|:-------:|\n",
        "| `==`     | Equal to                 | `\"cat\" == \"dog\"`   | `False` |\n",
        "| `!=`     | Not equal to             | `\"cat\" != \"dog\"`   | `True`  |\n",
        "| `<`      | Less than                | `2 < 1`            | `False` |\n",
        "| `>`      | Greater than             | `2 > 1`            | `True`  |\n",
        "| `<=`     | Less than or equal to    | `2 <= 2`           | `True`  |\n",
        "| `>=`     | Greater than or equal to | `2 >= 4`           | `False` |"
      ]
    },
    {
      "cell_type": "markdown",
      "metadata": {
        "id": "wkoaPgBlqemF"
      },
      "source": [
        "### Boolean values\n",
        "\n",
        "As shown in Table 2.3, comparison operations yield Boolean values (`True` or `False`). In Python, the words `True` and `False` are reserved for these Boolean values and cannot be used for other purposes.\n",
        "\n",
        "To demonstrate this, let's check the current value of the conditions we used in the previous examples:"
      ]
    },
    {
      "cell_type": "code",
      "execution_count": null,
      "metadata": {
        "id": "kMVXvovzqemF",
        "outputId": "a51cc75d-32e7-401b-85ff-f82d06683817"
      },
      "outputs": [
        {
          "data": {
            "text/plain": [
              "False"
            ]
          },
          "execution_count": 7,
          "metadata": {},
          "output_type": "execute_result"
        }
      ],
      "source": [
        "temperature > 25"
      ]
    },
    {
      "cell_type": "code",
      "execution_count": null,
      "metadata": {
        "id": "3mbssfOYqemF",
        "outputId": "9224efba-9cae-462f-c0a0-afc6072478ff"
      },
      "outputs": [
        {
          "data": {
            "text/plain": [
              "True"
            ]
          },
          "execution_count": 8,
          "metadata": {},
          "output_type": "execute_result"
        }
      ],
      "source": [
        "weather == \"rain\""
      ]
    },
    {
      "cell_type": "markdown",
      "metadata": {
        "id": "sdk6uBKDqemF"
      },
      "source": [
        "### if, elif and else\n",
        "\n",
        "We can link several conditions together using the \"else if\" statement `elif`. Python checks the `elif` and `else` statements only if previous conditions were `False`. You can have multiple `elif` statements to check for additional conditions. Let's create a chain of `if`, `elif`, and `else` statements that are able to tell us if the temperature is above freezing, exactly at the freezing point, or below freezing."
      ]
    },
    {
      "cell_type": "code",
      "execution_count": null,
      "metadata": {
        "id": "iDFT1gNEqemF"
      },
      "outputs": [],
      "source": [
        "temperature = -3"
      ]
    },
    {
      "cell_type": "code",
      "execution_count": null,
      "metadata": {
        "id": "xPx_2Nl5qemF",
        "outputId": "a7973dd6-e9a1-4833-93d7-3b57574dc13c"
      },
      "outputs": [
        {
          "name": "stdout",
          "output_type": "stream",
          "text": [
            "-3 degrees Celsius is below freezing\n"
          ]
        }
      ],
      "source": [
        "if temperature > 0:\n",
        "    print(f\"{temperature} degrees Celsius is above freezing\")\n",
        "elif temperature == 0:\n",
        "    print(f\"{temperature} degrees Celsius is at the freezing point\")\n",
        "else:\n",
        "    print(f\"{temperature} degrees Celsius is below freezing\")"
      ]
    },
    {
      "cell_type": "markdown",
      "metadata": {
        "editable": true,
        "tags": [
          "question"
        ],
        "id": "zzVG1LiUqemF"
      },
      "source": [
        "#### Question 2.10\n",
        "\n",
        "Let's assume that yesterday it was 14 °C, it is 10 °C outside today, and tomorrow it will be 13 °C.\n",
        "The following code compares these temperatures and prints something to the screen based on the comparison.\n",
        "\n",
        "```python\n",
        "yesterday = 14\n",
        "today = 10\n",
        "tomorrow = 13\n",
        "\n",
        "if yesterday <= today:\n",
        "    print('A')\n",
        "elif today != tomorrow:\n",
        "    print('B')\n",
        "elif yesterday > tomorrow:\n",
        "    print('C')\n",
        "elif today == today:\n",
        "    print('D')\n",
        "```\n",
        "\n",
        "Which of the letters `A`, `B`, `C`, and `D` would be printed out?"
      ]
    },
    {
      "cell_type": "code",
      "execution_count": null,
      "metadata": {
        "editable": true,
        "tags": [
          "remove_cell"
        ],
        "id": "J5Nzwec9qemF"
      },
      "outputs": [],
      "source": [
        "# Use this cell to enter your solution."
      ]
    },
    {
      "cell_type": "code",
      "execution_count": null,
      "metadata": {
        "tags": [
          "hide-cell",
          "remove_book_cell"
        ],
        "id": "l7xNm4jdqemF",
        "outputId": "8791fea7-ad35-41ed-c0b8-3568ed124013",
        "cellView": "form"
      },
      "outputs": [
        {
          "data": {
            "text/plain": [
              "'B'"
            ]
          },
          "execution_count": 12,
          "metadata": {},
          "output_type": "execute_result"
        }
      ],
      "source": [
        "#@title Solution\n",
        "\n",
        "\"B\""
      ]
    },
    {
      "cell_type": "markdown",
      "metadata": {
        "id": "OAusXl-UqemG"
      },
      "source": [
        "### Combining conditions\n",
        "\n",
        "We can also use the `and` and `or` operators to combine multiple conditions that use Boolean values (Table 2.4).\n",
        "\n",
        ": _**Table 2.4**. Logic for the `and`, `or`, and `not` operators in Python._\n",
        "\n",
        "| Operator | Description            | Comparison example | Result  |\n",
        "|:--------:|:-----------------------|:------------------:|:-------:|\n",
        "| `and`    | True only if both      | `2 > 1 and 1 < 0`  | `False` |\n",
        "|          | comparisons are true   |                    |         |\n",
        "| `or`     | True if either         | `2 > 1 or 1 < 0`   | `True`  |\n",
        "|          | comparison is true     |                    |         |\n",
        "| `not`    | False if comparison is | `not 2 > 1`        | `False` |\n",
        "|          | true and vice versa    |                    |         |\n",
        "\n",
        "With Table 2.4 in mind, let's consider a few examples."
      ]
    },
    {
      "cell_type": "code",
      "execution_count": null,
      "metadata": {
        "editable": true,
        "tags": [],
        "id": "rOhjX54fqemG",
        "outputId": "1b0ef74b-94b8-4e78-c1d8-7f241c9b878b"
      },
      "outputs": [
        {
          "name": "stdout",
          "output_type": "stream",
          "text": [
            "At least one part is not true\n"
          ]
        }
      ],
      "source": [
        "hot_temperature = 35.0\n",
        "warm_temperature = 24.0\n",
        "cold_temperature = -4.0\n",
        "\n",
        "if (hot_temperature > warm_temperature) and (cold_temperature > warm_temperature):\n",
        "    print(\"Both parts are true\")\n",
        "else:\n",
        "    print(\"At least one part is not true\")"
      ]
    },
    {
      "cell_type": "code",
      "execution_count": null,
      "metadata": {
        "editable": true,
        "tags": [],
        "id": "YBxOFK94qemG",
        "outputId": "21093053-9522-49be-9487-2c7a902e3dd6"
      },
      "outputs": [
        {
          "name": "stdout",
          "output_type": "stream",
          "text": [
            "At least one test is true\n"
          ]
        }
      ],
      "source": [
        "if (hot_temperature < warm_temperature) or (cold_temperature < warm_temperature):\n",
        "    print(\"At least one test is true\")"
      ]
    },
    {
      "cell_type": "markdown",
      "metadata": {
        "editable": true,
        "tags": [],
        "id": "TaICcYE4qemG"
      },
      "source": [
        "Later in this book we will also see how to use the bitwise operators `&` for `and`, and `|` for `or`."
      ]
    },
    {
      "cell_type": "markdown",
      "metadata": {
        "editable": true,
        "tags": [
          "question"
        ],
        "id": "QhKqB1IlqemG"
      },
      "source": [
        "#### Question 2.11\n",
        "\n",
        "Let's return to our example about making decisions on a rainy day. Imagine that we consider not only the rain but also the wind speed (in meters per second). If it is windy or raining, we’ll just stay at home. If it's not windy or raining, we can go out and enjoy the weather!\n",
        "\n",
        "Let's set 10 m/s as our comfort limit for wind speed in the conditional statement and see what our Python program tells us to do in these conditions."
      ]
    },
    {
      "cell_type": "code",
      "execution_count": null,
      "metadata": {
        "editable": true,
        "tags": [
          "remove_cell"
        ],
        "id": "jp7j_mmsqemG"
      },
      "outputs": [],
      "source": [
        "# Use this cell to enter your solution."
      ]
    },
    {
      "cell_type": "code",
      "execution_count": null,
      "metadata": {
        "editable": true,
        "tags": [
          "hide-cell",
          "remove_book_cell"
        ],
        "id": "8EqpaHfzqemG",
        "outputId": "6dfd37c8-e8fa-4992-865b-2deaa645e1fc",
        "cellView": "form"
      },
      "outputs": [
        {
          "name": "stdout",
          "output_type": "stream",
          "text": [
            "Just stay at home\n"
          ]
        }
      ],
      "source": [
        "#@title Solution\n",
        "\n",
        "weather = \"rain\"\n",
        "wind_speed = 14\n",
        "comfort_limit = 10\n",
        "\n",
        "# If it is windy or raining, print \"stay at home\",\n",
        "# otherwise (else) print \"go out and enjoy the weather!\"\n",
        "if (weather == \"rain\") or (wind_speed >= comfort_limit):\n",
        "    print(\"Just stay at home\")\n",
        "else:\n",
        "    print(\"Go out and enjoy the weather! :)\")"
      ]
    },
    {
      "cell_type": "markdown",
      "metadata": {
        "id": "_eThBkGZqemG"
      },
      "source": [
        "As you can see, we better just stay home if it is windy or raining! If you don't agree, you can modify the conditions and print statements accordingly."
      ]
    },
    {
      "cell_type": "markdown",
      "metadata": {
        "editable": true,
        "tags": [],
        "id": "ojnE22EMqemG"
      },
      "source": [
        "## Combining for loops and conditional statements\n",
        "\n",
        "Finally, we can also combine `for` loops and conditional statements. Let's use a `for` loop to iterate over a list of temperatures and check whether the temperature is hot or not."
      ]
    },
    {
      "cell_type": "code",
      "execution_count": null,
      "metadata": {
        "editable": true,
        "tags": [],
        "id": "5Rs82m1pqemG",
        "outputId": "21762556-2f97-4771-9438-3d9cde5035be"
      },
      "outputs": [
        {
          "name": "stdout",
          "output_type": "stream",
          "text": [
            "0 is not hot\n",
            "28 is hot\n",
            "12 is not hot\n",
            "17 is not hot\n",
            "30 is hot\n"
          ]
        }
      ],
      "source": [
        "temperatures = [0, 28, 12, 17, 30]\n",
        "\n",
        "# Loop over each temperature\n",
        "# If the temperature is greater than 25, print \"...is hot\"\n",
        "for temperature in temperatures:\n",
        "    if temperature > 25:\n",
        "        print(f\"{temperature} is hot\")\n",
        "    else:\n",
        "        print(f\"{temperature} is not hot\")"
      ]
    }
  ],
  "metadata": {
    "kernelspec": {
      "display_name": "Python 3 (ipykernel)",
      "language": "python",
      "name": "python3"
    },
    "language_info": {
      "codemirror_mode": {
        "name": "ipython",
        "version": 3
      },
      "file_extension": ".py",
      "mimetype": "text/x-python",
      "name": "python",
      "nbconvert_exporter": "python",
      "pygments_lexer": "ipython3",
      "version": "3.12.5"
    },
    "colab": {
      "provenance": [],
      "include_colab_link": true
    }
  },
  "nbformat": 4,
  "nbformat_minor": 0
}