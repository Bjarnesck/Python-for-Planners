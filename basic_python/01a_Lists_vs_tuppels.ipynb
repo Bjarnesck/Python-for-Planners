{
  "cells": [
    {
      "cell_type": "markdown",
      "metadata": {
        "id": "view-in-github",
        "colab_type": "text"
      },
      "source": [
        "<a href=\"https://colab.research.google.com/github/Esbern/Python-for-Planners/blob/main/basic_python/01a_Lists_vs_tuppels.ipynb\" target=\"_parent\"><img src=\"https://colab.research.google.com/assets/colab-badge.svg\" alt=\"Open In Colab\"/></a>"
      ]
    },
    {
      "cell_type": "markdown",
      "id": "521e5b93",
      "metadata": {
        "id": "521e5b93"
      },
      "source": [
        "Tuples and lists are both used to store collections of items in Python, but they have different characteristics that make each useful in specific scenarios. Here are the main reasons to use **tuples rather than lists**:\n",
        "\n"
      ]
    },
    {
      "cell_type": "markdown",
      "id": "7b8d5a0d",
      "metadata": {
        "id": "7b8d5a0d"
      },
      "source": [
        "### 1. **Immutability** (Tuples are Immutable)\n",
        "\n",
        "- Tuples cannot be modified after creation (no appending, removing, or changing elements).\n",
        "- This makes them **safer** to use when you want to ensure data integrity.\n",
        "- Example use case: Storing constant data, such as coordinates `(x, y)`, or fixed configurations.\n",
        "\n"
      ]
    },
    {
      "cell_type": "code",
      "execution_count": 1,
      "id": "b688e319",
      "metadata": {
        "id": "b688e319"
      },
      "outputs": [],
      "source": [
        "\n",
        "coordinates = (12.34, 56.78)  # A tuple to store immutable geographic coordinates\n"
      ]
    },
    {
      "cell_type": "markdown",
      "id": "55bfa45e",
      "metadata": {
        "id": "55bfa45e"
      },
      "source": [
        "\n"
      ]
    },
    {
      "cell_type": "markdown",
      "id": "6738ff7f",
      "metadata": {
        "id": "6738ff7f"
      },
      "source": [
        "### 2. **Performance** (Tuples are Faster)\n",
        "\n",
        "- Tuples are **faster** than lists for iteration and lookup operations because they have a **smaller memory footprint** and optimized storage.\n",
        "- If you don’t need to modify a sequence, using a tuple can lead to **better performance**.\n",
        "\n"
      ]
    },
    {
      "cell_type": "code",
      "execution_count": 2,
      "id": "dc95a579",
      "metadata": {
        "id": "dc95a579",
        "outputId": "72e605ec-5c7f-459d-9736-c2429843f154",
        "colab": {
          "base_uri": "https://localhost:8080/"
        }
      },
      "outputs": [
        {
          "output_type": "stream",
          "name": "stdout",
          "text": [
            "0.01259481200000323\n",
            "0.0477579129999981\n"
          ]
        }
      ],
      "source": [
        "\n",
        "import timeit\n",
        "\n",
        "print(timeit.timeit(\"x = (1, 2, 3, 4, 5)\", number=1000000))  # Faster\n",
        "print(timeit.timeit(\"x = [1, 2, 3, 4, 5]\", number=1000000))  # Slower\n"
      ]
    },
    {
      "cell_type": "markdown",
      "id": "e6e08d86",
      "metadata": {
        "id": "e6e08d86"
      },
      "source": [
        "\n"
      ]
    },
    {
      "cell_type": "markdown",
      "id": "fbede1a9",
      "metadata": {
        "id": "fbede1a9"
      },
      "source": [
        "### 3. **Hashability** (Tuples Can Be Dictionary Keys)\n",
        "\n",
        "- Tuples are **hashable** (if they contain only immutable elements), so they can be used as **keys in dictionaries** or **elements in sets**.\n",
        "- Lists, being mutable, **cannot** be dictionary keys.\n",
        "\n"
      ]
    },
    {
      "cell_type": "code",
      "execution_count": 3,
      "id": "2dd6318b",
      "metadata": {
        "id": "2dd6318b",
        "outputId": "73938066-c18c-49f5-a435-0aaa02f2faa8",
        "colab": {
          "base_uri": "https://localhost:8080/"
        }
      },
      "outputs": [
        {
          "output_type": "stream",
          "name": "stdout",
          "text": [
            "Coordinates\n"
          ]
        }
      ],
      "source": [
        "\n",
        "my_dict = {(\"latitude\", \"longitude\"): \"Coordinates\"}  # Tuple as a key\n",
        "print(my_dict[(\"latitude\", \"longitude\")])\n"
      ]
    },
    {
      "cell_type": "markdown",
      "id": "2aa20a76",
      "metadata": {
        "id": "2aa20a76"
      },
      "source": [
        "\n"
      ]
    },
    {
      "cell_type": "markdown",
      "id": "d919a3f8",
      "metadata": {
        "id": "d919a3f8"
      },
      "source": [
        "### 4. **Explicit Intent** (Tuples Imply Fixed Structure)\n",
        "\n",
        "- When you use a tuple, it signals that the structure should **not change**, making the code **more readable**.\n",
        "- Example: When returning **multiple values** from a function.\n",
        "\n"
      ]
    },
    {
      "cell_type": "code",
      "execution_count": 5,
      "id": "e1539d19",
      "metadata": {
        "id": "e1539d19",
        "outputId": "09418818-1fde-4e2f-b385-5171a62dc8a1",
        "colab": {
          "base_uri": "https://localhost:8080/"
        }
      },
      "outputs": [
        {
          "output_type": "stream",
          "name": "stdout",
          "text": [
            "Latitude: 55.6761, Longitude: 12.5683\n"
          ]
        }
      ],
      "source": [
        "\n",
        "def get_location():\n",
        "    return (55.6761, 12.5683)  # Returns latitude and longitude as a tuple\n",
        "\n",
        "lat, lon = get_location()\n",
        "print(f\"Latitude: {lat}, Longitude: {lon}\")\n"
      ]
    },
    {
      "cell_type": "markdown",
      "id": "9cd87374",
      "metadata": {
        "id": "9cd87374"
      },
      "source": [
        "\n"
      ]
    },
    {
      "cell_type": "markdown",
      "id": "dba7eb0e",
      "metadata": {
        "id": "dba7eb0e"
      },
      "source": [
        "### 5. **Memory Efficiency** (Tuples Use Less Memory)\n",
        "\n",
        "- Since tuples are immutable, they require **less overhead** compared to lists.\n",
        "- Lists need additional memory to support dynamic resizing, whereas tuples do not.\n",
        "\n"
      ]
    },
    {
      "cell_type": "code",
      "execution_count": 6,
      "id": "10493e0b",
      "metadata": {
        "id": "10493e0b",
        "outputId": "8003de27-9d35-4d22-819b-c867f3efad03",
        "colab": {
          "base_uri": "https://localhost:8080/"
        }
      },
      "outputs": [
        {
          "output_type": "stream",
          "name": "stdout",
          "text": [
            "104\n",
            "80\n"
          ]
        }
      ],
      "source": [
        "\n",
        "import sys\n",
        "\n",
        "my_list = [1, 2, 3, 4, 5]\n",
        "my_tuple = (1, 2, 3, 4, 5)\n",
        "\n",
        "print(sys.getsizeof(my_list))  # Larger memory usage\n",
        "print(sys.getsizeof(my_tuple))  # Smaller memory usage\n"
      ]
    },
    {
      "cell_type": "markdown",
      "id": "b1c4966d",
      "metadata": {
        "id": "b1c4966d"
      },
      "source": [
        "\n"
      ]
    },
    {
      "cell_type": "markdown",
      "id": "06ab4abb",
      "metadata": {
        "id": "06ab4abb"
      },
      "source": [
        "### When Should You Use a List Instead?\n",
        "\n",
        "- If you **need to modify** the data (e.g., append, remove, or change elements).\n",
        "- If you require **dynamic sizing** where elements will be frequently added or removed.\n",
        "- If you need **homogeneous** data structures where items are frequently processed in loops.\n",
        "\n"
      ]
    },
    {
      "cell_type": "markdown",
      "id": "bcc0d06b",
      "metadata": {
        "id": "bcc0d06b"
      },
      "source": [
        "### Conclusion\n",
        "\n",
        "Use **tuples** when: ✅ You need **immutable** data.  \n",
        "✅ You need **faster** performance and lower memory usage.  \n",
        "✅ You want to use them as **dictionary keys** or set elements.  \n",
        "✅ You want to clearly signal that a sequence **should not change**.\n",
        "\n",
        "Use **lists** when: ✅ You need to **modify** the data.  \n",
        "✅ You need a **dynamic, resizable** collection.  \n",
        "✅ You need homogeneous data structures for **looping and iteration**."
      ]
    }
  ],
  "metadata": {
    "kernelspec": {
      "display_name": "Python 3 (ipykernel)",
      "language": "python",
      "name": "python3"
    },
    "language_info": {
      "codemirror_mode": {
        "name": "ipython",
        "version": 3
      },
      "file_extension": ".py",
      "mimetype": "text/x-python",
      "name": "python",
      "nbconvert_exporter": "python",
      "pygments_lexer": "ipython3",
      "version": "3.12.2"
    },
    "colab": {
      "provenance": [],
      "include_colab_link": true
    }
  },
  "nbformat": 4,
  "nbformat_minor": 5
}