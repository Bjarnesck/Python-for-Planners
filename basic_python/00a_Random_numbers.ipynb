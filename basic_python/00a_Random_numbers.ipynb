{
 "cells": [
  {
   "cell_type": "markdown",
   "id": "8c1d5c56",
   "metadata": {},
   "source": [
    "Generating random numbers in Python can be done in several ways, depending on your specific needs:\n",
    "\n"
   ]
  },
  {
   "cell_type": "markdown",
   "id": "5f9963b6",
   "metadata": {},
   "source": [
    "### 1. The Built-in `random` Module\n",
    "\n",
    "For many everyday tasks, Python’s built-in `random` module is sufficient. It offers functions such as:\n",
    "\n",
    "- **`random.random()`**: Returns a random float in the range [0.0, 1.0).\n",
    "- **`random.randint(a, b)`**: Returns a random integer N such that a ≤ N ≤ b.\n",
    "- **`random.choice(sequence)`**: Randomly selects an item from a non-empty sequence.\n",
    "\n"
   ]
  },
  {
   "cell_type": "code",
   "execution_count": null,
   "id": "adc2bb99",
   "metadata": {},
   "outputs": [],
   "source": [
    "\n",
    "import random\n",
    "\n",
    "# Random float between 0 and 1\n",
    "print(random.random())\n",
    "\n",
    "# Random integer between 1 and 10\n",
    "print(random.randint(1, 10))\n",
    "\n",
    "# Random selection from a list\n",
    "fruits = ['apple', 'banana', 'cherry']\n",
    "print(random.choice(fruits))\n"
   ]
  },
  {
   "cell_type": "markdown",
   "id": "7b99f1bd",
   "metadata": {},
   "source": [
    "\n"
   ]
  },
  {
   "cell_type": "markdown",
   "id": "2d50ecee",
   "metadata": {},
   "source": [
    "### 2. The `numpy.random` Module\n",
    "\n",
    "For simulation tasks and handling large datasets—common in urban planning and digital twins—the `numpy.random` module is very powerful and efficient. It can generate arrays of random numbers and offers a variety of distributions.\n",
    "\n"
   ]
  },
  {
   "cell_type": "code",
   "execution_count": null,
   "id": "342d49d6",
   "metadata": {},
   "outputs": [],
   "source": [
    "\n",
    "import numpy as np\n",
    "\n",
    "# Array of 5 random floats between 0 and 1\n",
    "print(np.random.rand(5))\n",
    "\n",
    "# Array of 5 random integers between 1 and 10\n",
    "print(np.random.randint(1, 10, size=5))\n"
   ]
  },
  {
   "cell_type": "markdown",
   "id": "8ebffbfe",
   "metadata": {},
   "source": [
    "\n"
   ]
  },
  {
   "cell_type": "markdown",
   "id": "665dda33",
   "metadata": {},
   "source": [
    "### 3. Seeding for Reproducibility\n",
    "\n",
    "Both modules allow you to set a seed, which is essential if you need reproducible results for simulations.\n",
    "\n"
   ]
  },
  {
   "cell_type": "code",
   "execution_count": null,
   "id": "9ac17299",
   "metadata": {},
   "outputs": [],
   "source": [
    "\n",
    "import random\n",
    "random.seed(42)\n",
    "print(random.random())\n",
    "\n",
    "import numpy as np\n",
    "np.random.seed(42)\n",
    "print(np.random.rand(5))\n"
   ]
  },
  {
   "cell_type": "markdown",
   "id": "73b768cf",
   "metadata": {},
   "source": [
    "\n"
   ]
  },
  {
   "cell_type": "markdown",
   "id": "f1a07d97",
   "metadata": {},
   "source": [
    "### 4. Cryptographically Secure Random Numbers\n",
    "\n",
    "If your application requires secure random numbers (less common in simulation), consider using the `secrets` module, which is designed for cryptographic purposes.\n",
    "\n"
   ]
  },
  {
   "cell_type": "code",
   "execution_count": null,
   "id": "c7df354f",
   "metadata": {},
   "outputs": [],
   "source": [
    "\n",
    "import secrets\n",
    "\n",
    "# Generate a secure random number between 0 and 100\n",
    "print(secrets.randbelow(101))\n"
   ]
  },
  {
   "cell_type": "markdown",
   "id": "002ed0f8",
   "metadata": {},
   "source": [
    "\n"
   ]
  },
  {
   "cell_type": "markdown",
   "id": "5ec58491",
   "metadata": {},
   "source": [
    "### Conclusion\n",
    "\n",
    "For your workshop focused on simulation and urban digital twins:\n",
    "\n",
    "- **Use the built-in `random` module** for simple tasks and quick experiments.\n",
    "- **Leverage `numpy.random`** for simulations requiring high-performance array computations and more complex random number generation.\n",
    "- **Remember to seed your generators** if you need consistent, repeatable outcomes.\n",
    "\n",
    "Each approach serves different purposes, so choose the one that best fits your simulation requirements and performance needs."
   ]
  }
 ],
 "metadata": {
  "kernelspec": {
   "display_name": "Python 3 (ipykernel)",
   "language": "python",
   "name": "python3"
  },
  "language_info": {
   "codemirror_mode": {
    "name": "ipython",
    "version": 3
   },
   "file_extension": ".py",
   "mimetype": "text/x-python",
   "name": "python",
   "nbconvert_exporter": "python",
   "pygments_lexer": "ipython3",
   "version": "3.12.2"
  }
 },
 "nbformat": 4,
 "nbformat_minor": 5
}
