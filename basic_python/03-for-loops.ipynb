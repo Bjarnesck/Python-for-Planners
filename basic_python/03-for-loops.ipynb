{
  "cells": [
    {
      "cell_type": "markdown",
      "metadata": {
        "id": "view-in-github",
        "colab_type": "text"
      },
      "source": [
        "<a href=\"https://colab.research.google.com/github/Esbern/Python-for-Planners/blob/main/basic_python/03-for-loops.ipynb\" target=\"_parent\"><img src=\"https://colab.research.google.com/assets/colab-badge.svg\" alt=\"Open In Colab\"/></a>"
      ]
    },
    {
      "cell_type": "markdown",
      "metadata": {
        "editable": true,
        "tags": [],
        "id": "lhFSXB8DqK2q"
      },
      "source": [
        "# for loops\n",
        "\n",
        "In the previous section we introduced *{term}`lists <list>`* in Python, one form of a collection of values that can be represented by a single variable. In this lesson we will learn how to use *{term}`loops <loop>`*. Loops allow parts of code to be repeated some number of times, such as iterating over all of the items in a Python list and performing a calculation using each item."
      ]
    },
    {
      "cell_type": "markdown",
      "metadata": {
        "editable": true,
        "tags": [],
        "id": "EjNvBovOqK2r"
      },
      "source": [
        "## A (bad) example\n",
        "\n",
        "Let’s consider an example using the `list` below:"
      ]
    },
    {
      "cell_type": "code",
      "execution_count": 1,
      "metadata": {
        "id": "FT0RS_SPqK2r"
      },
      "outputs": [],
      "source": [
        "european_cities = [\"Helsinki\", \"Paris\", \"Barcelona\", \"Uppsala\"]"
      ]
    },
    {
      "cell_type": "markdown",
      "metadata": {
        "id": "PptQNiXgqK2s"
      },
      "source": [
        "Suppose we want to print out the name of each city in our list. We could use the index value for each city and do the following:"
      ]
    },
    {
      "cell_type": "code",
      "execution_count": null,
      "metadata": {
        "id": "vprNaqbnqK2s",
        "outputId": "181298f5-0002-4bb9-f5de-9ce2cb3f768d"
      },
      "outputs": [
        {
          "data": {
            "text/plain": [
              "'Helsinki'"
            ]
          },
          "execution_count": 2,
          "metadata": {},
          "output_type": "execute_result"
        }
      ],
      "source": [
        "european_cities[0]"
      ]
    },
    {
      "cell_type": "code",
      "execution_count": null,
      "metadata": {
        "id": "m8QItrdyqK2s",
        "outputId": "ad4bcc84-3f16-4d97-e545-73be785def00"
      },
      "outputs": [
        {
          "data": {
            "text/plain": [
              "'Paris'"
            ]
          },
          "execution_count": 3,
          "metadata": {},
          "output_type": "execute_result"
        }
      ],
      "source": [
        "european_cities[1]"
      ]
    },
    {
      "cell_type": "code",
      "execution_count": null,
      "metadata": {
        "id": "kptVg_N-qK2s",
        "outputId": "f061c27f-70ea-410a-d756-030574d51fea"
      },
      "outputs": [
        {
          "data": {
            "text/plain": [
              "'Barcelona'"
            ]
          },
          "execution_count": 4,
          "metadata": {},
          "output_type": "execute_result"
        }
      ],
      "source": [
        "european_cities[2]"
      ]
    },
    {
      "cell_type": "code",
      "execution_count": null,
      "metadata": {
        "id": "_lV13CLsqK2s",
        "outputId": "adfdbee3-d7a4-44b4-e650-1cbec65d812a"
      },
      "outputs": [
        {
          "data": {
            "text/plain": [
              "'Uppsala'"
            ]
          },
          "execution_count": 5,
          "metadata": {},
          "output_type": "execute_result"
        }
      ],
      "source": [
        "european_cities[3]"
      ]
    },
    {
      "cell_type": "markdown",
      "metadata": {
        "editable": true,
        "tags": [],
        "id": "vFHIlwMLqK2s"
      },
      "source": [
        "But this is a bad idea. Why? Well there are two reasons.\n",
        "First, it does not scale nicely for long lists and will take forever to type in.\n",
        "Second, it won’t work if the length of the list has fewer than 4 cities (or more than 4 cities for that matter...).\n",
        "Let's see an example with an updated `list`."
      ]
    },
    {
      "cell_type": "code",
      "execution_count": null,
      "metadata": {
        "editable": true,
        "tags": [],
        "id": "HCFrDbWwqK2t"
      },
      "outputs": [],
      "source": [
        "european_cities = [\"Riga\", \"Rome\", \"Athens\"]"
      ]
    },
    {
      "cell_type": "code",
      "execution_count": null,
      "metadata": {
        "id": "T6qiPhFDqK2t",
        "outputId": "696d1bb1-c66a-482e-93fb-f08dd8de9920"
      },
      "outputs": [
        {
          "data": {
            "text/plain": [
              "'Riga'"
            ]
          },
          "execution_count": 7,
          "metadata": {},
          "output_type": "execute_result"
        }
      ],
      "source": [
        "european_cities[0]"
      ]
    },
    {
      "cell_type": "code",
      "execution_count": null,
      "metadata": {
        "id": "pyH_Lx-DqK2t",
        "outputId": "b70c9b30-2a9b-4b11-c365-7fb6f136d075"
      },
      "outputs": [
        {
          "data": {
            "text/plain": [
              "'Rome'"
            ]
          },
          "execution_count": 8,
          "metadata": {},
          "output_type": "execute_result"
        }
      ],
      "source": [
        "european_cities[1]"
      ]
    },
    {
      "cell_type": "code",
      "execution_count": null,
      "metadata": {
        "id": "2TWoCzwwqK2t",
        "outputId": "d46fe01a-1824-4498-d5b0-f442ca8d3f62"
      },
      "outputs": [
        {
          "data": {
            "text/plain": [
              "'Athens'"
            ]
          },
          "execution_count": 9,
          "metadata": {},
          "output_type": "execute_result"
        }
      ],
      "source": [
        "european_cities[2]"
      ]
    },
    {
      "cell_type": "code",
      "execution_count": null,
      "metadata": {
        "tags": [
          "raises-exception"
        ],
        "id": "LCtzMBvWqK2t",
        "outputId": "d5d02c2d-e115-4638-8b1b-205baf79e2f3"
      },
      "outputs": [
        {
          "ename": "IndexError",
          "evalue": "list index out of range",
          "output_type": "error",
          "traceback": [
            "\u001b[0;31m---------------------------------------------------------------------------\u001b[0m",
            "\u001b[0;31mIndexError\u001b[0m                                Traceback (most recent call last)",
            "Cell \u001b[0;32mIn[10], line 1\u001b[0m\n\u001b[0;32m----> 1\u001b[0m \u001b[43meuropean_cities\u001b[49m\u001b[43m[\u001b[49m\u001b[38;5;241;43m3\u001b[39;49m\u001b[43m]\u001b[49m\n",
            "\u001b[0;31mIndexError\u001b[0m: list index out of range"
          ]
        }
      ],
      "source": [
        "european_cities[3]"
      ]
    },
    {
      "cell_type": "markdown",
      "metadata": {
        "id": "W07Dx_hpqK2t"
      },
      "source": [
        "Here we get an `IndexError` because we have only 3 values in our list and tried to access 4 values based on what had worked for the first `european_cities` list."
      ]
    },
    {
      "cell_type": "markdown",
      "metadata": {
        "editable": true,
        "tags": [],
        "id": "Gbt0hJ_LqK2t"
      },
      "source": [
        "## Introducing the for loop\n",
        "\n",
        "In situations like those above, it is far more efficient to use a `for` loop. Let's see an example."
      ]
    },
    {
      "cell_type": "code",
      "execution_count": null,
      "metadata": {
        "editable": true,
        "tags": [],
        "id": "Y_jXsJWiqK2t"
      },
      "outputs": [],
      "source": [
        "european_cities = [\"Amsterdam\", \"Brussels\", \"Lisbon\", \"Reykjavik\"]"
      ]
    },
    {
      "cell_type": "code",
      "execution_count": null,
      "metadata": {
        "id": "lfQxnLQZqK2u",
        "outputId": "e33ee5a6-2439-4373-f723-d9b221c85a2c"
      },
      "outputs": [
        {
          "name": "stdout",
          "output_type": "stream",
          "text": [
            "Amsterdam\n",
            "Brussels\n",
            "Lisbon\n",
            "Reykjavik\n"
          ]
        }
      ],
      "source": [
        "for city in european_cities:\n",
        "    print(city)"
      ]
    },
    {
      "cell_type": "markdown",
      "metadata": {
        "id": "KJ34x5hAqK2u"
      },
      "source": [
        "Not only is this shorter, but it is also more flexible.\n",
        "Try printing out a different list of cities such as `['Detroit', 'Chicago', 'Denver', 'Boston', 'Portland', 'San Francisco', 'Houston', 'Orlando']`.\n",
        "Still works, right?"
      ]
    },
    {
      "cell_type": "code",
      "execution_count": null,
      "metadata": {
        "id": "1sngnm8AqK2u",
        "outputId": "370b65c6-6323-47c3-8c3f-20ae44eadf7f"
      },
      "outputs": [
        {
          "name": "stdout",
          "output_type": "stream",
          "text": [
            "Detroit\n",
            "Chicago\n",
            "Denver\n",
            "Boston\n",
            "Portland\n",
            "San Francisco\n",
            "Houston\n",
            "Orlando\n"
          ]
        }
      ],
      "source": [
        "us_cities = [\n",
        "    \"Detroit\",\n",
        "    \"Chicago\",\n",
        "    \"Denver\",\n",
        "    \"Boston\",\n",
        "    \"Portland\",\n",
        "    \"San Francisco\",\n",
        "    \"Houston\",\n",
        "    \"Orlando\",\n",
        "]\n",
        "for city in us_cities:\n",
        "    print(city)"
      ]
    },
    {
      "cell_type": "markdown",
      "metadata": {
        "editable": true,
        "tags": [],
        "id": "ObJosWHUqK2u"
      },
      "source": [
        "### for loop format\n",
        "\n",
        "`for` loops in Python have the general form below.\n",
        "\n",
        "```python\n",
        "for variable in collection:\n",
        "        do things with variable\n",
        "```\n",
        "\n",
        "Let's break down the code above to see some essential aspect of `for` loops:\n",
        "\n",
        "- The `variable` can be any valid variable name you like.\n",
        "- The statement of the `for` loop must end with a `:`\n",
        "- The code that should be executed as part of the loop must be indented beneath the `for` statement. The recommended indentation is 4 spaces.\n",
        "- There is no additional special word needed to end the loop, you simply change the indentation back to normal.\n",
        "\n",
        "In summary, `for` loops are useful to repeat some part of the code a finite number of times."
      ]
    },
    {
      "cell_type": "markdown",
      "metadata": {
        "editable": true,
        "tags": [],
        "id": "5uNlzYW6qK2u"
      },
      "source": [
        "### Your daily for loop\n",
        "\n",
        "![_**Figure 2.3**. A cat's daily routine as an example loop. Original comic from <https://www.bugmartini.com/comic/cats-eye/>._](https://github.com/Esbern/Python-for-Planners/blob/main/img/2009-11-03-Cats-Eye.jpg?raw=1)\n",
        "\n",
        "_**Figure 2.3**. A cat's daily routine as an example loop. Original comic from <https://www.bugmartini.com/comic/cats-eye/>._\n",
        "\n",
        "Like many other programming concepts, the idea of looping through actions is something that is already perhaps more familiar to you than you think. Consider your actions during a given weekday. Many people have certain routines they follow each weekday, such as waking up, taking a shower, eating breakfast, and brushing their teeth. In Python code, we might represent such actions as follows:"
      ]
    },
    {
      "cell_type": "markdown",
      "metadata": {
        "editable": true,
        "tags": [],
        "id": "B1OcKNYQqK2u"
      },
      "source": [
        "```python\n",
        "for day in my_week:\n",
        "    wake_up()\n",
        "    take_shower()\n",
        "    eat_breakfast()\n",
        "    brush_teeth()\n",
        "    ...\n",
        "```\n",
        "            \n",
        "Note that `my_week` would be a list of the days of the week, and the actions you take are represented as functions, such as `wake_up()`.\n",
        "Furthermore, by following this kind of list of repeating actions we're able to start the day effectively even before the first cup of coffee :)."
      ]
    },
    {
      "cell_type": "markdown",
      "metadata": {
        "editable": true,
        "tags": [],
        "id": "fnO5Ha2wqK2u"
      },
      "source": [
        "### For loop variables\n",
        "\n",
        "Note that the variable used in a `for` loop is just a normal variable. This its value still exists after the loop has been run. Let's loop over a list of weather conditions and print them to the screen."
      ]
    },
    {
      "cell_type": "code",
      "execution_count": null,
      "metadata": {
        "editable": true,
        "tags": [],
        "id": "Zv77jgweqK2u"
      },
      "outputs": [],
      "source": [
        "weather_conditions = [\n",
        "    \"rain\",\n",
        "    \"sleet\",\n",
        "    \"snow\",\n",
        "    \"freezing fog\",\n",
        "    \"sunny\",\n",
        "    \"cloudy\",\n",
        "    \"ice pellets\",\n",
        "]"
      ]
    },
    {
      "cell_type": "code",
      "execution_count": null,
      "metadata": {
        "id": "cLvwieBdqK2u",
        "outputId": "0de6597b-2a20-49fd-e9d4-170852df869a"
      },
      "outputs": [
        {
          "name": "stdout",
          "output_type": "stream",
          "text": [
            "rain\n",
            "sleet\n",
            "snow\n",
            "freezing fog\n",
            "sunny\n",
            "cloudy\n",
            "ice pellets\n"
          ]
        }
      ],
      "source": [
        "for weather in weather_conditions:\n",
        "    print(weather)"
      ]
    },
    {
      "cell_type": "markdown",
      "metadata": {
        "id": "ht1032gRqK2u"
      },
      "source": [
        "What is its value of `weather` after the `for` loop has completed?"
      ]
    },
    {
      "cell_type": "code",
      "execution_count": null,
      "metadata": {
        "id": "PGHN-7y0qK2u",
        "outputId": "0c7d3d0e-d7fc-4ce9-fafb-c00e6847d356"
      },
      "outputs": [
        {
          "name": "stdout",
          "output_type": "stream",
          "text": [
            "After the loop, weather is ice pellets\n"
          ]
        }
      ],
      "source": [
        "print(f\"After the loop, weather is {weather}\")"
      ]
    },
    {
      "cell_type": "markdown",
      "metadata": {
        "editable": true,
        "tags": [],
        "id": "FHjC_0M9qK2u"
      },
      "source": [
        "## For loops using the range function\n",
        "\n",
        "A loop can be used to iterate over any list of values in Python. So far we have considered only iterating a `list`, but we could also write a loop that performs a calculation a specified number of times by using the `range()` function. Let's consider an example where we use a `for` loop with `value` as the loop variable and `range(5)` as the collection. Let's see what happens if we print `value` at each iteration."
      ]
    },
    {
      "cell_type": "code",
      "execution_count": null,
      "metadata": {
        "editable": true,
        "tags": [],
        "id": "8MGGesNZqK2u",
        "outputId": "3f8f479b-d2f7-45ca-a8e3-3ec176dccd8a"
      },
      "outputs": [
        {
          "name": "stdout",
          "output_type": "stream",
          "text": [
            "0\n",
            "1\n",
            "2\n",
            "3\n",
            "4\n"
          ]
        }
      ],
      "source": [
        "for value in range(5):\n",
        "    print(value)"
      ]
    },
    {
      "cell_type": "markdown",
      "metadata": {
        "id": "vjsXESpFqK2v"
      },
      "source": [
        "In this case, we use a special function called `range()` to give us a list of 5 numbers `[0, 1, 2, 3, 4]` and then we print a number in the list to the screen during each iteration.\n",
        "When given an integer (whole number) as an argument, `range()` will produce a list of numbers with a length equal to the specified `number`.\n",
        "The list starts at `0` and ends with `number - 1`.\n",
        "You can learn a bit more about range by typing `help(range)`.\n",
        "\n",
        "```python\n",
        "In [1]: help(range)\n",
        "```\n",
        "\n",
        "```\n",
        "Help on class range in module builtins:\n",
        "\n",
        "class range(object)\n",
        " |  range(stop) -> range object\n",
        " |  range(start, stop[, step]) -> range object\n",
        " |  \n",
        " |  Return an object that produces a sequence of integers from start (inclusive)\n",
        " |  to stop (exclusive) by step.  range(i, j) produces i, i+1, i+2, ..., j-1.\n",
        "... (output truncated)\n",
        "```"
      ]
    },
    {
      "cell_type": "markdown",
      "metadata": {
        "editable": true,
        "tags": [
          "question"
        ],
        "id": "o1cBxPvfqK2v"
      },
      "source": [
        "#### Question 2.7\n",
        "\n",
        "The program below will print numbers to the screen using the `range()` function.\n",
        "\n",
        "```python\n",
        "for i in range(...):\n",
        "    print(i)\n",
        "```\n",
        "\n",
        "Using the documentation that is produced when you run `help(range)`, what values would you replace the `...` in the parentheses of the `range()` function with to have the following output printed to the screen? Try to first think about the function without running any code.\n",
        "\n",
        "```python\n",
        "2\n",
        "5\n",
        "8\n",
        "```"
      ]
    },
    {
      "cell_type": "code",
      "execution_count": null,
      "metadata": {
        "editable": true,
        "tags": [
          "remove_cell"
        ],
        "id": "uA34vJS4qK2v"
      },
      "outputs": [],
      "source": [
        "# You can use this cell to enter your solution."
      ]
    },
    {
      "cell_type": "code",
      "execution_count": null,
      "metadata": {
        "editable": true,
        "tags": [
          "hide-cell",
          "remove_book_cell"
        ],
        "id": "_hFtTgx1qK2v",
        "outputId": "cb075d4d-0bdc-4328-d71a-207e476993d9"
      },
      "outputs": [
        {
          "name": "stdout",
          "output_type": "stream",
          "text": [
            "2\n",
            "5\n",
            "8\n"
          ]
        }
      ],
      "source": [
        "# Solution\n",
        "\n",
        "for i in range(2, 9, 3):\n",
        "    print(i)"
      ]
    },
    {
      "cell_type": "markdown",
      "metadata": {
        "editable": true,
        "tags": [],
        "id": "piJ5lcSAqK2v"
      },
      "source": [
        "## Looping over lists using index values\n",
        "\n",
        "Since we already know how to find the length of a list using the `len()` function, we can now take advantage of this knowledge to make our `for` loops more flexible. Let's start by doing something we have done earlier, printing out city names using a `for` loop. However, this time we will also use the `range()` function to print the cities."
      ]
    },
    {
      "cell_type": "code",
      "execution_count": null,
      "metadata": {
        "editable": true,
        "tags": [],
        "id": "WS6BS5hJqK2v"
      },
      "outputs": [],
      "source": [
        "african_cities = [\"Dakar\", \"Addis Ababa\", \"Nairobi\", \"Cairo\", \"Rabat\", \"Kampala\"]"
      ]
    },
    {
      "cell_type": "code",
      "execution_count": null,
      "metadata": {
        "editable": true,
        "tags": [],
        "id": "RfZzOD-cqK2v",
        "outputId": "c54a87b7-c63d-4b0e-b1eb-74c098f386c7"
      },
      "outputs": [
        {
          "name": "stdout",
          "output_type": "stream",
          "text": [
            "Dakar is at index 0 in the list.\n",
            "Addis Ababa is at index 1 in the list.\n",
            "Nairobi is at index 2 in the list.\n",
            "Cairo is at index 3 in the list.\n",
            "Rabat is at index 4 in the list.\n",
            "Kampala is at index 5 in the list.\n"
          ]
        }
      ],
      "source": [
        "for i in range(len(african_cities)):\n",
        "    print(f\"{african_cities[i]} is at index {i} in the list.\")"
      ]
    },
    {
      "cell_type": "markdown",
      "metadata": {
        "editable": true,
        "tags": [],
        "id": "Byj_6NyLqK2v"
      },
      "source": [
        "There are several important things to observe in this `for` loop:\n",
        "\n",
        "1. You can see that because we are using the `range()` function, the value assigned to the loop variable `i` starts with `0` and increases by `1` each time through the loop.\n",
        "2. In order to access individual cities in the `african_cities` list, we need to include the index value (e.g., `african_cities[i]`). Here, the variable `i` will be replaced by the current value assigned from the `range()` function.\n",
        "\n",
        "The variable `i` is commonly used to denote the index variable in loops. Loops can sometimes occur with another loop (referred to as nested loops), in which case other index variables such as `j` or `k` are often used."
      ]
    },
    {
      "cell_type": "markdown",
      "metadata": {
        "editable": true,
        "tags": [],
        "id": "mqZbE9ZiqK2v"
      },
      "source": [
        "## Why use index value to loop over a list?\n",
        "\n",
        "Good question. There are two common case where you might need to loop using index values:\n",
        "\n",
        "1. If you want to update individual values in a list you're likely going to need a loop that includes the index values. To update a list value, you need to refer to both the list and index, which means looping using the list values directly will not work. There are functions such as `enumerate()` that can help, but their use can be somewhat confusing for new programmers.\n",
        "2. In cases where you have multiple lists that are related to one another, it can be handy to use a loop with the index values to be able to access corresponding locations in each list. For this, let's consider an example with the two lists below."
      ]
    },
    {
      "cell_type": "code",
      "execution_count": null,
      "metadata": {
        "editable": true,
        "tags": [],
        "id": "CgC7HmnvqK2v"
      },
      "outputs": [],
      "source": [
        "cities = [\"Helsinki\", \"Stockholm\", \"Oslo\", \"Reykjavik\", \"Copenhagen\"]"
      ]
    },
    {
      "cell_type": "code",
      "execution_count": null,
      "metadata": {
        "id": "VPUypmTmqK2v"
      },
      "outputs": [],
      "source": [
        "countries = [\"Finland\", \"Sweden\", \"Norway\", \"Iceland\", \"Denmark\"]"
      ]
    },
    {
      "cell_type": "markdown",
      "metadata": {
        "id": "xZgzBywkqK2v"
      },
      "source": [
        "As you can see we have 5 cities and 5 corresponding countries. Let's print out each pair using a single `for` loop."
      ]
    },
    {
      "cell_type": "code",
      "execution_count": null,
      "metadata": {
        "id": "omj2uHlSqK2w",
        "outputId": "84633c87-f997-49ef-d4ea-3cddc76895be"
      },
      "outputs": [
        {
          "name": "stdout",
          "output_type": "stream",
          "text": [
            "Helsinki is the capital of Finland\n",
            "Stockholm is the capital of Sweden\n",
            "Oslo is the capital of Norway\n",
            "Reykjavik is the capital of Iceland\n",
            "Copenhagen is the capital of Denmark\n"
          ]
        }
      ],
      "source": [
        "for i in range(len(cities)):\n",
        "    print(cities[i], \"is the capital of\", countries[i])"
      ]
    },
    {
      "cell_type": "markdown",
      "metadata": {
        "id": "dJ22Ue9kqK2w"
      },
      "source": [
        "Cool. So as you can see, the index `i` is used in this case to access each item in the two lists of cities and countries and allow us to print out the city/country pairs. In the example above, we used the length of the list `cities` in the `range()` function. We could just as easily used the list `countries` to define the values of `i` since both lists are the same length."
      ]
    },
    {
      "cell_type": "markdown",
      "metadata": {
        "editable": true,
        "tags": [
          "question"
        ],
        "id": "_vHjx0GVqK2w"
      },
      "source": [
        "#### Question 2.8\n",
        "\n",
        "What output would the following program produce? Try to first think about the loop without running any code.\n",
        "\n",
        "```python\n",
        "odd_numbers = [1, 3, 5, 7, 9]\n",
        "even_numbers = [10, 4, 6, 8, 2]\n",
        "for i in range(len(odd_numbers)):\n",
        "    print(odd_numbers[i] + even_numbers[i])\n",
        "```"
      ]
    },
    {
      "cell_type": "code",
      "execution_count": null,
      "metadata": {
        "editable": true,
        "tags": [
          "remove_cell"
        ],
        "id": "bLUtVIsrqK2w"
      },
      "outputs": [],
      "source": [
        "# Use this cell to enter your solution."
      ]
    },
    {
      "cell_type": "code",
      "execution_count": null,
      "metadata": {
        "tags": [
          "hide-cell",
          "remove_book_cell"
        ],
        "id": "-jL1RZKSqK2w",
        "outputId": "1d9e2c42-05e2-4c53-eef4-dbbe99831363"
      },
      "outputs": [
        {
          "data": {
            "text/plain": [
              "11"
            ]
          },
          "execution_count": 26,
          "metadata": {},
          "output_type": "execute_result"
        }
      ],
      "source": [
        "# Solution\n",
        "\n",
        "11\n",
        "7\n",
        "11\n",
        "15\n",
        "11"
      ]
    }
  ],
  "metadata": {
    "kernelspec": {
      "display_name": "Python 3 (ipykernel)",
      "language": "python",
      "name": "python3"
    },
    "language_info": {
      "codemirror_mode": {
        "name": "ipython",
        "version": 3
      },
      "file_extension": ".py",
      "mimetype": "text/x-python",
      "name": "python",
      "nbconvert_exporter": "python",
      "pygments_lexer": "ipython3",
      "version": "3.12.5"
    },
    "colab": {
      "provenance": [],
      "include_colab_link": true
    }
  },
  "nbformat": 4,
  "nbformat_minor": 0
}