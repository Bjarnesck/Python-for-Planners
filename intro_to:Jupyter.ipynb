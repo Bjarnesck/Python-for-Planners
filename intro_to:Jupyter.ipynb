{
  "cells": [
    {
      "cell_type": "markdown",
      "metadata": {
        "id": "view-in-github",
        "colab_type": "text"
      },
      "source": [
        "<a href=\"https://colab.research.google.com/github/Esbern/Python-for-Planners/blob/main/intro_to%3AJupyter.ipynb\" target=\"_parent\"><img src=\"https://colab.research.google.com/assets/colab-badge.svg\" alt=\"Open In Colab\"/></a>"
      ]
    },
    {
      "cell_type": "markdown",
      "metadata": {
        "id": "0pdfdTz5MWVR"
      },
      "source": [
        "# Jupyter notebook\n",
        "\n",
        "*This material is adapted from the [OGGM-Edu’s educational notebooks](https://edu.oggm.org/en/latest/notebooks_howto.html).*"
      ]
    },
    {
      "cell_type": "markdown",
      "metadata": {
        "id": "ZYrX48oSMWVT"
      },
      "source": [
        "Welcome to this introduction to [Jupyter Notebooks](https://jupyter.org/)! The advantage of notebooks is that they can include explanatory text, code, and plots in the same document.\n",
        "\n",
        "**This makes of notebooks an ideal playground for explaining and learning new things without having to jump between several documents. Thanks to binder, you can run them in your web browser without requiring to install anything!**\n",
        "\n",
        "This document itself is a notebook. It is a simple text file with a `.ipynb` file path ending. If you opened this notebook via an Binder link, it is opened in a platform which is called [JupyterLab](https://jupyterlab.readthedocs.io/en/stable/). \"JupyterLab\" is the development environment allowing you to navigate between notebooks (navigation bar on the left), (re-)start them, and much more. Here, we will focus on the notebooks themselves."
      ]
    },
    {
      "cell_type": "markdown",
      "metadata": {
        "id": "BmO6EmKvMWVT"
      },
      "source": [
        "## First steps"
      ]
    },
    {
      "cell_type": "markdown",
      "metadata": {
        "id": "v4RrLxkXMWVU"
      },
      "source": [
        "At first sight the notebook looks like a text editor. Below this line, you can see a **cell**. The default purpose of a cell is to write code:"
      ]
    },
    {
      "cell_type": "code",
      "execution_count": null,
      "metadata": {
        "id": "3h3JGwAyMWVU"
      },
      "outputs": [],
      "source": [
        "m = \"Urban simulation with Python\"\n",
        "print(m)"
      ]
    },
    {
      "cell_type": "code",
      "execution_count": null,
      "metadata": {
        "id": "NrWnqIRWMWVV"
      },
      "outputs": [],
      "source": []
    },
    {
      "cell_type": "code",
      "source": [
        "# prompt: create a cell that prints the numberd from 2 to 20 with a increment of 2\n",
        "\n",
        "for i in range(2, 21, 2):\n",
        "  print(i)\n"
      ],
      "metadata": {
        "id": "SXoUP0VWMtGH"
      },
      "execution_count": null,
      "outputs": []
    },
    {
      "cell_type": "code",
      "execution_count": null,
      "metadata": {
        "id": "zFX1cQ-sMWVV"
      },
      "outputs": [],
      "source": [
        "# Click on this cell, so that its frame gets highlighted\n",
        "m = 'Hello'\n",
        "print(m)"
      ]
    },
    {
      "cell_type": "markdown",
      "metadata": {
        "id": "QwORj4-MMWVV"
      },
      "source": [
        "You can write one or more lines of code in a cell. You can **run** this code by clicking on the \"Run\" button from the toolbar above when the cell's frame is highlighted. Try it now!\n",
        "\n",
        "Clicking \"play\" through a notebook is possible, but it is much faster to use the keybord shortcut instead: `[Shift+Enter]`. Once you have executed a cell, the next cell is selected. You can **insert** cells in a notebook with the `+` button in the toolbar. Again, it is much faster to learn the keybord shortcut for this: `[Ctrl+m]` or `[ESC]` to enter in command mode (blue frame) then press `[a]` to insert a cell \"above\" the active cell or `[b]` for \"below\".\n",
        "\n",
        "Create a few empty cells above and below the current one and try to create some variables.  Instead of clicking on a cell to enter in edit mode press `[Enter]`.\n",
        "\n",
        "You can **delete** a cell by clicking \"Delete\" in the \"Edit\" menu, or you can use the shortcut: `[Ctrl+m]` to enter in command mode then press `[d]` two times!"
      ]
    },
    {
      "cell_type": "markdown",
      "metadata": {
        "id": "FISZfRKqMWVW"
      },
      "source": [
        "## More cell editing"
      ]
    },
    {
      "cell_type": "markdown",
      "metadata": {
        "id": "g-BkzSQPMWVX"
      },
      "source": []
    },
    {
      "cell_type": "markdown",
      "metadata": {
        "id": "2N_OyE1UMWVX"
      },
      "source": [
        "When you have a look into the \"Edit\" menu, you will see that there are more possibilities to edit cells, like:\n",
        "- **copy** / **cut** and **paste**\n",
        "- **splitting** and **merging** cells\n",
        "\n",
        "and more."
      ]
    },
    {
      "cell_type": "code",
      "execution_count": null,
      "metadata": {
        "id": "38UBTHvQMWVX"
      },
      "outputs": [],
      "source": [
        "a = 'This cell needs to be splitted.'\n",
        "\n",
        "b = 'Put the cursor in the row between the variables a and b, then choose [split cell] in the \"Edit\" menu!'"
      ]
    },
    {
      "cell_type": "markdown",
      "metadata": {
        "id": "_rVt_snHMWVX"
      },
      "source": [
        "Another helpful command is \"Undo delete cell', which is sometimes needed when the key `[d]` was pressed too fast."
      ]
    },
    {
      "cell_type": "markdown",
      "metadata": {
        "id": "CqzODtJVMWVX"
      },
      "source": [
        "## Writing and executing code"
      ]
    },
    {
      "cell_type": "markdown",
      "metadata": {
        "id": "eBHzbPGJMWVY"
      },
      "source": [
        "The variables created in one cell can be used (or overwritten) in subsequent cells:"
      ]
    },
    {
      "cell_type": "code",
      "execution_count": null,
      "metadata": {
        "id": "bxTtlwKCMWVY"
      },
      "outputs": [],
      "source": [
        "s = 'Hello'\n",
        "print(s)"
      ]
    },
    {
      "cell_type": "code",
      "execution_count": null,
      "metadata": {
        "id": "IioaO7xHMWVY"
      },
      "outputs": [],
      "source": [
        "s = s + ' Python!'\n",
        "# Lines which start with # are not executed. These are for comments.\n",
        "s"
      ]
    },
    {
      "cell_type": "markdown",
      "metadata": {
        "id": "w1mFjHOPMWVY"
      },
      "source": [
        "Note that we ommited the `print` commmand above (this is OK if you want to print something at the end of the cell only)."
      ]
    },
    {
      "cell_type": "markdown",
      "metadata": {
        "id": "G5BHH2c8MWVY"
      },
      "source": [
        "In jupyter notebooks, **code autocompletion** is supported. This is very useful when writing code. Variable names, functions and methods can be completed by pressing `[TAB]`."
      ]
    },
    {
      "cell_type": "code",
      "execution_count": null,
      "metadata": {
        "id": "_n-88DrdMWVY"
      },
      "outputs": [],
      "source": [
        "# Let's define a random sentence as string.\n",
        "sentence = 'How Are You?'"
      ]
    },
    {
      "cell_type": "code",
      "execution_count": null,
      "metadata": {
        "tags": [
          "remove-output"
        ],
        "id": "l2bPSAktMWVZ"
      },
      "outputs": [],
      "source": [
        "# Now try autocompletion! Put the cursor behind the 'se' in the next row and press [TAB].\n",
        "sen"
      ]
    },
    {
      "cell_type": "code",
      "execution_count": null,
      "metadata": {
        "tags": [
          "remove-output"
        ],
        "id": "hj-ibK2AMWVZ"
      },
      "outputs": [],
      "source": [
        "# Call methods of the string by typing \"sentence.\" and pressing [TAB].\n",
        "sentence.lower()"
      ]
    },
    {
      "cell_type": "code",
      "execution_count": null,
      "metadata": {
        "id": "njojhwzoMWVZ"
      },
      "outputs": [],
      "source": [
        "# Choose for example the method lower() and see what happens when you execute the cell!\n",
        "sentence.lower()"
      ]
    },
    {
      "cell_type": "markdown",
      "metadata": {
        "id": "-s9AZ7nFMWVZ"
      },
      "source": [
        "An advantage of notebooks is that each single cell can be executed separately. That provides an easy way to execute code step by step, one cell after another. It is important to notice that the order in which you execute the cells is the order with which the jupyter notebook calculates and saves variables - the execution order therfore depends on **you**, not on the order of the cells in the document. That means that it makes a difference, whether you execute the cells top down one after another, or whether you mix them (cell 1, then cell 5, then cell 2 etc.)."
      ]
    },
    {
      "cell_type": "markdown",
      "metadata": {
        "id": "Lpcl8cV6MWVZ"
      },
      "source": [
        "The numbers on the left of each cell show you your order of execution. When a calculation is running longer, you will see an asterisk in the place of the number. That leads us to the next topic:"
      ]
    },
    {
      "cell_type": "markdown",
      "metadata": {
        "id": "pPTrNW3AMWVa"
      },
      "source": [
        "## Restart or interrupt the kernel"
      ]
    },
    {
      "cell_type": "markdown",
      "metadata": {
        "id": "lz4UZtiJMWVa"
      },
      "source": [
        "Sometimes calculations last too long and you want to **interrupt** them. You can do this by clicking the \"Stop button\" in the toolbar.\n",
        "\n",
        "The \"**kernel**\" of a notebook is the actual python interpreter which runs your code. There is one kernel per opened notebook (i.e. the notebooks cannot share data or variable between each other). In certain situations (for example, if you got confused about the order of your cells and variable and want a fresh state), you might want to **retart the kernel**. You can do so (as well as other options such as **clearing the output** of a notebook) in the \"Kernel\" menu in the top jupyterlab bar."
      ]
    },
    {
      "cell_type": "markdown",
      "metadata": {
        "id": "qjz3X2Z6MWVa"
      },
      "source": [
        "## Errors in a cell"
      ]
    },
    {
      "cell_type": "markdown",
      "metadata": {
        "id": "8cDedrAJMWVa"
      },
      "source": [
        "Sometimes, a piece of code in a cell won't run properly. This happens to everyone! Here is an example:"
      ]
    },
    {
      "cell_type": "code",
      "execution_count": null,
      "metadata": {
        "editable": true,
        "tags": [],
        "id": "nDg_XaPLMWVa"
      },
      "outputs": [],
      "source": [
        "# This will produce a \"NameError\"\n",
        "test = 1 + 3\n",
        "print(tesT)"
      ]
    },
    {
      "cell_type": "markdown",
      "metadata": {
        "id": "fXwRkqs3MWVa"
      },
      "source": [
        "When a cell ends with an error, don't panic! Nothing we cannot recover from. First of all, the other cells will still run (unless they depend on the output of the failing cell): i.e., your kernel is still active. I you want to recover from the error, adress the problem (here a capsize issue) and re-run the cell.\n",
        "\n",
        "## Displaying plots with matplotlib\n",
        "\n",
        "The most widely used plotting tool for Python is [Matplotlib](http://matplotlib.org/). Its syntax is inspired from Matlab and might be familiar to a few:"
      ]
    },
    {
      "cell_type": "code",
      "execution_count": null,
      "metadata": {
        "id": "Ytf_tjvZMWVa"
      },
      "outputs": [],
      "source": [
        "# First we need the next line to tell the notebook: display plots in the notebook.\n",
        "%matplotlib inline\n",
        "\n",
        "# Now, we import matplotlib:\n",
        "import matplotlib.pyplot as plt\n",
        "\n",
        "# We import also the package called numpy (that helps us to play with numbers).\n",
        "import numpy as np"
      ]
    },
    {
      "cell_type": "code",
      "execution_count": null,
      "metadata": {
        "id": "MwXo5j33MWVb"
      },
      "outputs": [],
      "source": [
        "# Let's plot something nice:\n",
        "\n",
        "# Define a square function of x\n",
        "x = np.linspace(-1, 1)\n",
        "y = np.sqrt(1-x**2)\n",
        "# Plot it.\n",
        "plt.plot(x, y)\n",
        "plt.title('My first plot in a notebook');"
      ]
    },
    {
      "cell_type": "markdown",
      "metadata": {
        "id": "uFmZbEnKMWVc"
      },
      "source": [
        "## Formatting your notebook with text, titles and formulas"
      ]
    },
    {
      "cell_type": "markdown",
      "metadata": {
        "id": "X2gSrwoiMWVc"
      },
      "source": [
        "The default role of a cell is to run code, but you can tell the notebook to format a cell as \"text\" by clicking in the menu bar on \"Cell\", choose \"Cell Type\" $\\rightarrow$ \"Markdown\". The current cell will now be transformed to a normal text.\n",
        "Again, there is a keyboard shortcut for this: press `[Ctrl+m]` to enter in command mode and then `[m]` to convert the active cell to text. The opposite (converting a text cell to code) can be done with `[Ctrl+m]` to enter in command mode and then `[y]`.\n",
        "\n",
        "As we have seen, the notebook editor has two simple modes: the \"command mode\" to navigate between cells and activate them, and the \"edit mode\" to edit their content. To edit a cell you have two choices:\n",
        "- press `[enter]` on a selected (highlighted) cell\n",
        "- double click on a cell (any cell)\n",
        "\n",
        "Now, try to edit the cell below!"
      ]
    },
    {
      "cell_type": "markdown",
      "metadata": {
        "id": "t6YmsjTgMWVc"
      },
      "source": [
        "A text cell is formatted with the [Markdown](https://en.wikipedia.org/wiki/Markdown) format, e.g. it is possible to write lists:\n",
        "- item 1\n",
        "- item 2\n",
        "\n",
        "Numbered lists:\n",
        "1. part a\n",
        "2. part b\n",
        "\n",
        "Titles with the `#` syntax (the number of `#` indicating the level of the title:\n",
        "\n",
        "#### This is a level 4 title (with 4 `#` symbols)\n",
        "\n",
        "Mathematical formulas can be written down with the familiar Latex notation:\n",
        "\n",
        "$$ E = m c^2$$\n",
        "\n",
        "You can also write text in **bold** or *cursive*."
      ]
    },
    {
      "cell_type": "markdown",
      "metadata": {
        "id": "2OUQP2TWMWVc"
      },
      "source": [
        "## Download a notebook"
      ]
    },
    {
      "cell_type": "markdown",
      "metadata": {
        "id": "mpMbNqSZMWVc"
      },
      "source": [
        "Jupyter notebooks can be downloaded in various formats:\n",
        "\n",
        "- Standard notebook (`*.ipynb`): a text file only useful within the Jupyter framework\n",
        "- Python (`*.py`): a python script that can be executed separately.\n",
        "- HTML (`*.html`): an html text file that can be opened in any web browser (doens't require python or jupyter!)\n",
        "- ... and a number of other formats that may or may not work depending on your installation"
      ]
    },
    {
      "cell_type": "markdown",
      "metadata": {
        "id": "hVNxR47DMWVc"
      },
      "source": [
        "**To download a jupyter notebook in the notebook format** (`.ipynb`), select the file on the left-hand side bar, right-click and select \"Download\". Try it now!\n",
        "\n",
        "**For all other formats**, go to the \"File\" menu, then \"Export notebook as...\""
      ]
    },
    {
      "cell_type": "markdown",
      "metadata": {
        "id": "ANekXIe0MWVc"
      },
      "source": [
        "## Take home points"
      ]
    },
    {
      "cell_type": "markdown",
      "metadata": {
        "id": "m09qJ-CjMWVd"
      },
      "source": [
        "- jupyter notebooks consist of cells, which can be either code or text (not both)\n",
        "- one can navigate between cells in \"control mode\" (`[ctrl+m]`) and edit them in \"edit mode\" (`[enter]` or double click)\n",
        "- to exectute a cell, do: `[shift+enter]`\n",
        "- the order of execution of cells *does* matter\n",
        "- a text cell is written in markdown format, which allows lots of fancy formatting"
      ]
    },
    {
      "cell_type": "markdown",
      "metadata": {
        "id": "vi3coIKGMWVd"
      },
      "source": [
        "These were the most important features of jupyter-notebook. In the notebook's menu bar the tab \"Help\" provides links to the documentation. Keyboard shortcuts are listed in the \"Palette\" icon on the left-hand side toolbar. Furthermore, there are more tutorials [on the Jupyter website](https://jupyter.org/try).\n",
        "\n",
        "But with the few commands you learned today, you are already well prepared for the course!"
      ]
    },
    {
      "cell_type": "code",
      "execution_count": null,
      "metadata": {
        "id": "lYmGu7zeMWVd"
      },
      "outputs": [],
      "source": []
    }
  ],
  "metadata": {
    "celltoolbar": "Tags",
    "hide_input": false,
    "kernelspec": {
      "display_name": "Python 3 (ipykernel)",
      "language": "python",
      "name": "python3"
    },
    "language_info": {
      "codemirror_mode": {
        "name": "ipython",
        "version": 3
      },
      "file_extension": ".py",
      "mimetype": "text/x-python",
      "name": "python",
      "nbconvert_exporter": "python",
      "pygments_lexer": "ipython3",
      "version": "3.12.2"
    },
    "toc": {
      "base_numbering": 1,
      "nav_menu": {},
      "number_sections": false,
      "sideBar": true,
      "skip_h1_title": true,
      "title_cell": "Table of Contents",
      "title_sidebar": "Contents",
      "toc_cell": false,
      "toc_position": {},
      "toc_section_display": true,
      "toc_window_display": false
    },
    "colab": {
      "provenance": [],
      "include_colab_link": true
    }
  },
  "nbformat": 4,
  "nbformat_minor": 0
}