{
  "cells": [
    {
      "cell_type": "markdown",
      "metadata": {
        "id": "view-in-github",
        "colab_type": "text"
      },
      "source": [
        "<a href=\"https://colab.research.google.com/github/Esbern/Python-for-Planners/blob/main/Python_programming_concepts.ipynb\" target=\"_parent\"><img src=\"https://colab.research.google.com/assets/colab-badge.svg\" alt=\"Open In Colab\"/></a>"
      ]
    },
    {
      "cell_type": "markdown",
      "id": "18bf2a87",
      "metadata": {
        "id": "18bf2a87"
      },
      "source": []
    },
    {
      "cell_type": "markdown",
      "id": "95ff1be8",
      "metadata": {
        "id": "95ff1be8"
      },
      "source": [
        "## **1. What is Programming?**\n",
        "\n",
        "Before diving into Python, it’s important to understand **what programming is** and **why it matters**. Simply put:\n",
        "\n",
        "- **Programming is writing instructions for a computer** to execute.\n",
        "- A **program** is a set of step-by-step instructions.\n",
        "- Programs can **analyze data, run simulations, automate tasks, and visualize information**.\n",
        "\n"
      ]
    },
    {
      "cell_type": "markdown",
      "id": "866a9c42",
      "metadata": {
        "id": "866a9c42"
      },
      "source": [
        "### **1.1 Why Use Python?**\n",
        "\n",
        "Python is widely used in urban planning and data analysis because:\n",
        "\n",
        "- It is **easy to learn** with a simple, readable syntax.\n",
        "- It has **powerful libraries** for data science, GIS, and simulations.\n",
        "- It supports **object-oriented programming**, making it flexible and modular.\n",
        "\n",
        "Python programs are written using **variables, functions, and control structures**—all of which we will explore step by step.\n",
        "\n",
        "---\n",
        "\n"
      ]
    },
    {
      "cell_type": "markdown",
      "id": "e771a257",
      "metadata": {
        "id": "e771a257"
      },
      "source": [
        "## **2. Understanding Python’s Object-Oriented Nature**\n",
        "\n",
        "In GIS, we work with **entities** such as buildings, roads, and land parcels. In Python, these entities are represented as **classes**, and each individual object (such as a specific building) is an **instance** of that class.\n",
        "\n"
      ]
    },
    {
      "cell_type": "markdown",
      "id": "3aec4c8d",
      "metadata": {
        "id": "3aec4c8d"
      },
      "source": [
        "### **2.1 What is an Object?**\n",
        "\n",
        "An **object** in Python is a **container** that holds both data (attributes) and behaviors (methods). Examples include:\n",
        "\n",
        "- A **number** (`10`) is an object of the `int` (integer) class.\n",
        "- A **text string** (`\"City\"`) is an object of the `str` (string) class.\n",
        "- A **list** (`[1, 2, 3]`) is an object of the `list` class.\n",
        "- A **building** in a GIS system can be represented as a `Building` class.\n",
        "\n"
      ]
    },
    {
      "cell_type": "markdown",
      "id": "85b03eac",
      "metadata": {
        "id": "85b03eac"
      },
      "source": [
        "### **2.2 Example: Objects in Python**\n",
        "\n"
      ]
    },
    {
      "cell_type": "code",
      "execution_count": null,
      "id": "a70dfc7a",
      "metadata": {
        "id": "a70dfc7a"
      },
      "outputs": [],
      "source": [
        "\n",
        "x = 10\n",
        "print(type(x))  # Output: <class 'int'>\n",
        "\n",
        "text = \"Simulated City\"\n",
        "print(type(text))  # Output: <class 'str'>\n"
      ]
    },
    {
      "cell_type": "markdown",
      "id": "01fc57e3",
      "metadata": {
        "id": "01fc57e3"
      },
      "source": [
        "\n",
        "Everything in Python has a **type**, which is actually a class that defines what it is and how it behaves. When you check an object's type using `type(obj)`, you are seeing the class that the object is an instance of.\n",
        "\n",
        "---\n",
        "\n"
      ]
    },
    {
      "cell_type": "markdown",
      "id": "5d7f673e",
      "metadata": {
        "id": "5d7f673e"
      },
      "source": [
        "## **3. Operators and How They Work**\n",
        "\n",
        "Operators (such as `+`, `-`, `*`, and `/`) are **not objects**, but their behavior is defined by the **class** of the objects they operate on.\n",
        "\n"
      ]
    },
    {
      "cell_type": "markdown",
      "id": "2d43fdb3-52fb-4791-ac69-bf28ef51d59b",
      "metadata": {
        "id": "2d43fdb3-52fb-4791-ac69-bf28ef51d59b"
      },
      "source": [
        "### **3.1 Operator Behavior in Object-Oriented Python**\n",
        "\n",
        "- `+` works differently for numbers and strings because each **class** defines its own behavior for `+`.\n",
        "- Example:\n",
        "\n",
        "    "
      ]
    },
    {
      "cell_type": "code",
      "source": [
        "print(2 + 3)  # Output: 5 (integer addition)\n",
        "print(\"Hello\" + \" World\")  # Output: Hello World (string concatenation)"
      ],
      "metadata": {
        "id": "5PPIFcQbVmml"
      },
      "id": "5PPIFcQbVmml",
      "execution_count": null,
      "outputs": []
    },
    {
      "cell_type": "markdown",
      "source": [
        "\n",
        "    \n",
        "- If you try to mix types, you get an error:\n"
      ],
      "metadata": {
        "id": "cjUpzqNJVKp-"
      },
      "id": "cjUpzqNJVKp-"
    },
    {
      "cell_type": "code",
      "source": [
        "\n",
        "print(2 + \" meters\")  # TypeError: unsupported operand type(s)\n",
        "\n"
      ],
      "metadata": {
        "id": "4wRwkvYcVKPz"
      },
      "id": "4wRwkvYcVKPz",
      "execution_count": null,
      "outputs": []
    },
    {
      "cell_type": "markdown",
      "source": [
        "- You can also define `+` for your own classes in a way that makes sense for that class. For example, in a GIS context, we might define `+` for a `Building` class to mean merging two buildings into a single entity."
      ],
      "metadata": {
        "id": "TOCA8HJKVUBV"
      },
      "id": "TOCA8HJKVUBV"
    },
    {
      "cell_type": "code",
      "execution_count": 1,
      "id": "3ccd3f15-a91c-4638-ab32-8457f1b4596a",
      "metadata": {
        "id": "3ccd3f15-a91c-4638-ab32-8457f1b4596a",
        "outputId": "c911e90e-e993-4a9a-caca-b351b541ef05",
        "colab": {
          "base_uri": "https://localhost:8080/"
        }
      },
      "outputs": [
        {
          "output_type": "stream",
          "name": "stdout",
          "text": [
            "Merged Building A with Building B 8 880.0\n"
          ]
        }
      ],
      "source": [
        "\n",
        "    class Building:\n",
        "        def __init__(self, name, stories, footprint):\n",
        "            self.name = name\n",
        "            self.stories = stories\n",
        "            self.footprint = footprint\n",
        "            self.area = self.stories * self.footprint\n",
        "\n",
        "        def describe(self):\n",
        "            return f\"{self.name}: {self.stories} stories, {self.area} sqm\"\n",
        "\n",
        "        def __add__(self, other):\n",
        "            return Building(f\"Merged {self.name} with {other.name}\", self.stories + other.stories, (self.footprint + other.footprint) / 2)\n",
        "\n",
        "    b1 = Building(\"Building A\", 5, 100)\n",
        "    b2 = Building(\"Building B\", 3, 120)\n",
        "    merged = b1 + b2\n",
        "    print(merged.name, merged.stories, merged.area)  # Merged-Building A-Building B 8 880.0\n"
      ]
    },
    {
      "cell_type": "markdown",
      "id": "8d223494",
      "metadata": {
        "id": "8d223494"
      },
      "source": [
        "## **4. Inheritance: Creating Subclasses**\n",
        "\n",
        "A **class** can be used as a blueprint for other classes. This allows us to define a **general class** (like `Building`) and create more **specific subclasses** (like `ResidentialBuilding` and `CommercialBuilding`) that inherit properties and methods from the general class.\n",
        "\n"
      ]
    },
    {
      "cell_type": "markdown",
      "id": "36f3dde5",
      "metadata": {
        "id": "36f3dde5"
      },
      "source": [
        "### **4.1 Example: Inheritance in a Building Class**\n",
        "\n"
      ]
    },
    {
      "cell_type": "code",
      "execution_count": 2,
      "id": "c87a566f",
      "metadata": {
        "id": "c87a566f",
        "outputId": "b6c82508-39ab-452b-a184-33d2c0cedc24",
        "colab": {
          "base_uri": "https://localhost:8080/"
        }
      },
      "outputs": [
        {
          "output_type": "stream",
          "name": "stdout",
          "text": [
            "Sunset Apartments: 10 stories, 2000 sqm, 40 apartments\n",
            "Downtown Offices: 5 stories, 1500 sqm, 25 offices\n"
          ]
        }
      ],
      "source": [
        "class ResidentialBuilding(Building):\n",
        "    def __init__(self, name, stories, footprint, num_apartments):\n",
        "        super().__init__(name, stories, footprint)\n",
        "        self.num_apartments = num_apartments\n",
        "\n",
        "    def describe(self):\n",
        "        return f\"{self.name}: {self.stories} stories, {self.area} sqm, {self.num_apartments} apartments\"\n",
        "\n",
        "class CommercialBuilding(Building):\n",
        "    def __init__(self, name, stories, footprint, num_offices):\n",
        "        super().__init__(name, stories, footprint)\n",
        "        self.num_offices = num_offices\n",
        "\n",
        "    def describe(self):\n",
        "        return f\"{self.name}: {self.stories} stories, {self.area} sqm, {self.num_offices} offices\"\n",
        "\n",
        "res_building = ResidentialBuilding(\"Sunset Apartments\", 10, 200, 40)\n",
        "com_building = CommercialBuilding(\"Downtown Offices\", 5, 300, 25)\n",
        "\n",
        "print(res_building.describe())\n",
        "print(com_building.describe())\n"
      ]
    },
    {
      "cell_type": "markdown",
      "id": "f052f077",
      "metadata": {
        "id": "f052f077"
      },
      "source": [
        "\n",
        "**Output:**\n",
        "\n"
      ]
    },
    {
      "cell_type": "markdown",
      "source": [
        "\n",
        "Sunset Apartments: 10 stories, 2000 sqm, 40 apartments\n",
        "\n",
        "Downtown Offices: 5 stories, 1500 sqm, 25 offices\n"
      ],
      "metadata": {
        "id": "0d691371"
      },
      "id": "0d691371"
    },
    {
      "cell_type": "markdown",
      "id": "c474cabc",
      "metadata": {
        "id": "c474cabc"
      },
      "source": [
        "\n",
        "This demonstrates how **subclasses** can inherit and extend a general class, allowing for specialized behaviors while reusing common functionality.\n",
        "\n",
        "---\n",
        "\n"
      ]
    },
    {
      "cell_type": "markdown",
      "id": "f9054022",
      "metadata": {
        "id": "f9054022"
      },
      "source": [
        "## **5. Understanding Namespaces**\n",
        "\n",
        "A **namespace** is a mapping between variable names and objects in memory. Python uses namespaces to **prevent name conflicts** and **manage variable scope**.\n",
        "\n"
      ]
    },
    {
      "cell_type": "markdown",
      "id": "703d67ac",
      "metadata": {
        "id": "703d67ac"
      },
      "source": [
        "### **5.1 The LEGB Rule (Scope Resolution)**\n",
        "\n",
        "Python follows the **LEGB** rule for resolving variable names:\n",
        "\n",
        "1. **Local (L)** – Variables inside the current function.\n",
        "2. **Enclosing (E)** – Variables in an enclosing function (if nested).\n",
        "3. **Global (G)** – Variables defined at the script level.\n",
        "4. **Built-in (B)** – Python’s built-in functions (`print`, `len`).\n",
        "\n",
        "Example:\n",
        "\n"
      ]
    },
    {
      "cell_type": "code",
      "execution_count": null,
      "id": "ecc91f3d",
      "metadata": {
        "id": "ecc91f3d"
      },
      "outputs": [],
      "source": [
        "\n",
        "def outer():\n",
        "    x = \"enclosing\"\n",
        "    def inner():\n",
        "        x = \"local\"\n",
        "        print(x)  # Finds 'x' in the local scope first\n",
        "    inner()\n",
        "    print(x)  # Finds 'x' in the enclosing scope\n",
        "\n",
        "outer()\n"
      ]
    },
    {
      "cell_type": "markdown",
      "id": "3ceab5f0",
      "metadata": {
        "id": "3ceab5f0"
      },
      "source": [
        "\n"
      ]
    },
    {
      "cell_type": "markdown",
      "id": "020456a7",
      "metadata": {
        "id": "020456a7"
      },
      "source": [
        "### **5.2 Global Variables in Functions**\n",
        "\n",
        "By default, a function **cannot modify a global variable** unless explicitly declared using the `global` keyword:\n",
        "\n"
      ]
    },
    {
      "cell_type": "code",
      "execution_count": null,
      "id": "8052aa76",
      "metadata": {
        "id": "8052aa76"
      },
      "outputs": [],
      "source": [
        "\n",
        "x = 10  # Global variable\n",
        "\n",
        "def modify_global():\n",
        "    global x  # Declare that we are modifying the global x\n",
        "    x = 20\n",
        "\n",
        "modify_global()\n",
        "print(x)  # Output: 20\n"
      ]
    },
    {
      "cell_type": "markdown",
      "id": "0e2c2134",
      "metadata": {
        "id": "0e2c2134"
      },
      "source": [
        "\n",
        "Without `global`, Python would treat `x` inside the function as a new local variable, leaving the global `x` unchanged.\n",
        "\n"
      ]
    },
    {
      "cell_type": "markdown",
      "id": "a232b975",
      "metadata": {
        "id": "a232b975"
      },
      "source": [
        "### **5.3 Keeping Namespaces Consistent When Importing**\n",
        "\n",
        "When importing modules, it’s important to keep namespaces **clear and structured** to avoid conflicts. Python allows different ways to import modules:\n",
        "\n",
        "1. **Standard Import (Preserves Module Namespace)**\n",
        "    \n",
        "    ```python\n",
        "    import numpy\n",
        "    print(numpy.array([1, 2, 3]))  # numpy remains a separate namespace\n",
        "    ```\n",
        "    \n",
        "2. **Using an Alias (Shorter and More Readable)**\n",
        "    \n",
        "    ```python\n",
        "    import numpy as np\n",
        "    print(np.array([1, 2, 3]))  # np is an alias for numpy\n",
        "    ```\n",
        "    \n",
        "3. **Importing Specific Functions (Avoids Full Module Reference)**\n",
        "    \n",
        "    ```python\n",
        "    from numpy import array\n",
        "    print(array([1, 2, 3]))  # Now array() is in the global namespace\n",
        "    ```\n",
        "    \n",
        "4. **Using `from module import *` (Not Recommended)**\n",
        "    \n",
        "    ```python\n",
        "    from numpy import *  # Brings everything into global namespace\n",
        "    ```\n",
        "    \n",
        "    - **Risk:** This may overwrite existing functions with the same name.\n",
        "\n",
        "By following structured importing practices, you can **avoid naming conflicts** and keep the codebase organized.\n",
        "\n",
        "A **namespace** is a mapping between variable names and objects in memory. Python uses namespaces to **prevent name conflicts** and **manage variable scope**.\n",
        "\n"
      ]
    }
  ],
  "metadata": {
    "kernelspec": {
      "display_name": "Python 3 (ipykernel)",
      "language": "python",
      "name": "python3"
    },
    "language_info": {
      "codemirror_mode": {
        "name": "ipython",
        "version": 3
      },
      "file_extension": ".py",
      "mimetype": "text/x-python",
      "name": "python",
      "nbconvert_exporter": "python",
      "pygments_lexer": "ipython3",
      "version": "3.12.2"
    },
    "colab": {
      "provenance": [],
      "include_colab_link": true
    }
  },
  "nbformat": 4,
  "nbformat_minor": 5
}