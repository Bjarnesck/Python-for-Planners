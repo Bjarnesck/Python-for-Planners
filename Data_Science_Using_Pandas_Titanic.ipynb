{
  "metadata": {
    "kernelspec": {
      "language": "python",
      "display_name": "Python 3",
      "name": "python3"
    },
    "language_info": {
      "pygments_lexer": "ipython3",
      "nbconvert_exporter": "python",
      "version": "3.6.4",
      "file_extension": ".py",
      "codemirror_mode": {
        "name": "ipython",
        "version": 3
      },
      "name": "python",
      "mimetype": "text/x-python"
    },
    "colab": {
      "name": "Data Science BEST Practices Using Pandas - Titanic",
      "provenance": [],
      "include_colab_link": true
    }
  },
  "nbformat_minor": 0,
  "nbformat": 4,
  "cells": [
    {
      "cell_type": "markdown",
      "metadata": {
        "id": "view-in-github",
        "colab_type": "text"
      },
      "source": [
        "<a href=\"https://colab.research.google.com/github/Esbern/Python-for-Planners/blob/main/Data_Science_Using_Pandas_Titanic.ipynb\" target=\"_parent\"><img src=\"https://colab.research.google.com/assets/colab-badge.svg\" alt=\"Open In Colab\"/></a>"
      ]
    },
    {
      "cell_type": "markdown",
      "source": [
        "### Variable Notes\n",
        "   - **PassengerId** Unique ID of the passenger\n",
        "\n",
        "   - **Survived** Survived (1) or died (0)\n",
        "\n",
        "   - **Pclass** Passenger's class (1st, 2nd, or 3rd)\n",
        "\n",
        "   - **Name** Passenger's name\n",
        "\n",
        "   - **Sex** Passenger's sex\n",
        "\n",
        "   - **Age** Passenger's age\n",
        "\n",
        "   - **SibSp** Number of siblings/spouses aboard the Titanic\n",
        "\n",
        "   - **Parch** Number of parents/children aboard the Titanic\n",
        "\n",
        "   - **Ticket** Ticket number\n",
        "\n",
        "   - **Fare** Fare paid for ticket\n",
        "\n",
        "   - **Cabin** Cabin number\n",
        "\n",
        "   - **Embarked** Where the passenger got on the ship (C - Cherbourg, S - Southampton, Q = Queenstown)"
      ],
      "metadata": {
        "id": "XWnIPHSPpNWr"
      }
    },
    {
      "cell_type": "code",
      "source": [
        "import pandas as pd"
      ],
      "metadata": {
        "id": "n0hWvD69z_eR"
      },
      "execution_count": null,
      "outputs": []
    },
    {
      "cell_type": "code",
      "source": [
        "url = \"https://raw.githubusercontent.com/Esbern/Python-for-Planners/main/data/titanic.csv\"\n",
        "titanic_df = pd.read_csv(url)\n"
      ],
      "metadata": {
        "id": "khgMmsTiw6cE"
      },
      "execution_count": null,
      "outputs": []
    },
    {
      "cell_type": "markdown",
      "source": [
        "## Describing the data\n",
        "****"
      ],
      "metadata": {
        "id": "o53glVXqpNWr"
      }
    },
    {
      "cell_type": "code",
      "source": [
        "# Exploring the data using pandas methods : 'shape', 'info', 'describe', 'dtype', 'mean()', ...\n",
        "print(f\"DataFrame shape : {titanic_df.shape}\\n================================\")\n",
        "print(f\"DataFrame info : {titanic_df.info()}\\n=================================\")\n",
        "print(f\"DataFrame columns : {titanic_df.columns}\\n=================================\")\n",
        "print(f\"The type of each column : {titanic_df.dtypes}\\n=================================\")\n",
        "print(f\"How much missing value in every column : {titanic_df.isna().sum()}\\n=================================\")\n"
      ],
      "metadata": {
        "execution": {
          "iopub.status.busy": "2023-01-31T18:24:24.074273Z",
          "iopub.execute_input": "2023-01-31T18:24:24.07459Z",
          "iopub.status.idle": "2023-01-31T18:24:24.098982Z",
          "shell.execute_reply.started": "2023-01-31T18:24:24.07456Z",
          "shell.execute_reply": "2023-01-31T18:24:24.09811Z"
        },
        "trusted": true,
        "id": "jKxdaflspNWr"
      },
      "execution_count": null,
      "outputs": []
    },
    {
      "cell_type": "code",
      "source": [
        "titanic_df.head()"
      ],
      "metadata": {
        "id": "4r_E4oUN4Jy9"
      },
      "execution_count": null,
      "outputs": []
    },
    {
      "cell_type": "code",
      "source": [
        "titanic_df.describe()"
      ],
      "metadata": {
        "id": "SXw8Yg6z4a6Q"
      },
      "execution_count": null,
      "outputs": []
    },
    {
      "cell_type": "code",
      "source": [
        "# The entier tabele can be printet as a html file\n",
        "titanic_df.to_html('temp.html')"
      ],
      "metadata": {
        "id": "O3x1Rp793h_2"
      },
      "execution_count": null,
      "outputs": []
    },
    {
      "cell_type": "markdown",
      "source": [
        "All good data analysis projects begin with trying to answer questions. Now that we know what column category data we have let's think of some questions or insights we would like to obtain from the data. So here's a list of questions we'll try to answer using our data analysis skills!\n",
        "\n",
        "First some basic questions:\n",
        "\n",
        "    1.) Who were the passengers on the Titanic? (Ages, Gender, Class,..etc)\n",
        "    2.) What deck were the passengers on and how does that relate to their class?\n",
        "    3.) Where did the passengers come from?\n",
        "    4.) Who was alone and who was with family?\n",
        "    \n",
        "Then we'll dig deeper, with a broader question:\n",
        "\n",
        "    5.) What factors helped someone survive the sinking?"
      ],
      "metadata": {
        "id": "zhD21OoMpNWr"
      }
    },
    {
      "cell_type": "markdown",
      "source": [
        "# 1. Who were the passengers on the titanic?"
      ],
      "metadata": {
        "id": "u-KvTV1FpNWs"
      }
    },
    {
      "cell_type": "code",
      "source": [
        "import numpy as np\n",
        "import matplotlib.pyplot as plt\n",
        "import seaborn as sns\n",
        "%matplotlib inline\n",
        "plt.style.use(\"fivethirtyeight\")"
      ],
      "metadata": {
        "execution": {
          "iopub.status.busy": "2023-01-31T18:24:24.100013Z",
          "iopub.execute_input": "2023-01-31T18:24:24.100293Z",
          "iopub.status.idle": "2023-01-31T18:24:24.873984Z",
          "shell.execute_reply.started": "2023-01-31T18:24:24.100269Z",
          "shell.execute_reply": "2023-01-31T18:24:24.873018Z"
        },
        "trusted": true,
        "id": "EyhvFvZypNWs"
      },
      "execution_count": null,
      "outputs": []
    },
    {
      "cell_type": "code",
      "source": [
        "# Let's first check gender\n",
        "# 'catplot()': Figure-level interface for drawing categorical plots onto a FacetGrid.\n",
        "sns.catplot(x='Sex', data=titanic_df, kind='count')"
      ],
      "metadata": {
        "execution": {
          "iopub.status.busy": "2023-01-31T18:24:24.876056Z",
          "iopub.execute_input": "2023-01-31T18:24:24.876353Z",
          "iopub.status.idle": "2023-01-31T18:24:25.053745Z",
          "shell.execute_reply.started": "2023-01-31T18:24:24.876328Z",
          "shell.execute_reply": "2023-01-31T18:24:25.053003Z"
        },
        "trusted": true,
        "id": "sdtR6x56pNWs"
      },
      "execution_count": null,
      "outputs": []
    },
    {
      "cell_type": "code",
      "source": [
        "# Now let separate the gender by classes passing 'Sex' to the 'hue' parameter\n",
        "sns.catplot(x='Pclass', data=titanic_df, hue='Sex', kind='count')"
      ],
      "metadata": {
        "execution": {
          "iopub.status.busy": "2023-01-31T18:24:25.056305Z",
          "iopub.execute_input": "2023-01-31T18:24:25.05661Z",
          "iopub.status.idle": "2023-01-31T18:24:25.287518Z",
          "shell.execute_reply.started": "2023-01-31T18:24:25.056585Z",
          "shell.execute_reply": "2023-01-31T18:24:25.286872Z"
        },
        "trusted": true,
        "id": "5pzSRUuNpNWs"
      },
      "execution_count": null,
      "outputs": []
    },
    {
      "cell_type": "markdown",
      "source": [
        "Wow, quite a few more males in the 3rd class than females, an interesting find. However, it might be useful to know the split between males, females, and children. How can we go about this?"
      ],
      "metadata": {
        "id": "I_-5sdX1pNWt"
      }
    },
    {
      "cell_type": "code",
      "source": [
        "# create new coloumn\n",
        "titanic_df['Person'] = titanic_df.Sex\n",
        "titanic_df.Person.unique()\n"
      ],
      "metadata": {
        "id": "QYQnd1fZ9HuA"
      },
      "execution_count": null,
      "outputs": []
    },
    {
      "cell_type": "markdown",
      "source": [
        "### filtering the dataset using .loc"
      ],
      "metadata": {
        "id": "B_BIhONPCJED"
      }
    },
    {
      "cell_type": "code",
      "source": [
        "titanic_df.loc[(titanic_df['Age']>60) & (titanic_df['Sex']== \"male\")]"
      ],
      "metadata": {
        "id": "UOUb9kog-OS_"
      },
      "execution_count": null,
      "outputs": []
    },
    {
      "cell_type": "code",
      "source": [
        "titanic_df.loc[titanic_df['Age'] < 16, 'Person'] = 'Child'\n",
        "titanic_df.Person.unique()"
      ],
      "metadata": {
        "id": "UGsrEtLD9RWO"
      },
      "execution_count": null,
      "outputs": []
    },
    {
      "cell_type": "code",
      "source": [
        "# It all in one cell: Create a new column 'Person' in which every person under 16 is child.\n",
        "\n",
        "titanic_df['Person'] = titanic_df.Sex\n",
        "titanic_df.loc[titanic_df['Age'] < 16, 'Person'] = 'Child'"
      ],
      "metadata": {
        "execution": {
          "iopub.status.busy": "2023-01-31T18:24:25.288706Z",
          "iopub.execute_input": "2023-01-31T18:24:25.289157Z",
          "iopub.status.idle": "2023-01-31T18:24:25.294074Z",
          "shell.execute_reply.started": "2023-01-31T18:24:25.28913Z",
          "shell.execute_reply": "2023-01-31T18:24:25.293515Z"
        },
        "trusted": true,
        "id": "c7HFJc7ZpNWt"
      },
      "execution_count": null,
      "outputs": []
    },
    {
      "cell_type": "code",
      "source": [
        "# Checking the distribution\n",
        "print(f\"Person categories : {titanic_df.Person.unique()}\\n=================================\")\n",
        "print(f\"Distribution of person : {titanic_df.Person.value_counts()}\\n=================================\")\n",
        "print(f\"Mean age : {titanic_df.Age.mean()}\\n=================================\")"
      ],
      "metadata": {
        "execution": {
          "iopub.status.busy": "2023-01-31T18:24:25.295149Z",
          "iopub.execute_input": "2023-01-31T18:24:25.295571Z",
          "iopub.status.idle": "2023-01-31T18:24:25.303794Z",
          "shell.execute_reply.started": "2023-01-31T18:24:25.295546Z",
          "shell.execute_reply": "2023-01-31T18:24:25.303219Z"
        },
        "trusted": true,
        "id": "MhEHDepUpNWt"
      },
      "execution_count": null,
      "outputs": []
    },
    {
      "cell_type": "markdown",
      "source": [
        "Excellent! Now we have seperated the passengers between female, male, and child. This will be important later on beacuse of the famous **\"Women and children first policy\"**!"
      ],
      "metadata": {
        "id": "p-MFth_mpNWt"
      }
    },
    {
      "cell_type": "code",
      "source": [
        "sns.catplot(x='Pclass', data=titanic_df, hue='Person', kind='count')"
      ],
      "metadata": {
        "execution": {
          "iopub.status.busy": "2023-01-31T18:24:25.304848Z",
          "iopub.execute_input": "2023-01-31T18:24:25.305229Z",
          "iopub.status.idle": "2023-01-31T18:24:25.54119Z",
          "shell.execute_reply.started": "2023-01-31T18:24:25.305205Z",
          "shell.execute_reply": "2023-01-31T18:24:25.540383Z"
        },
        "trusted": true,
        "id": "V0lt_jRvpNWt"
      },
      "execution_count": null,
      "outputs": []
    },
    {
      "cell_type": "markdown",
      "source": [
        "Interesting, quite a bit of children in 3rd class and not so many in 1st! How about we create a distribution of the ages to get a more precise picture of the who the passengers were."
      ],
      "metadata": {
        "id": "aLMGzcq4pNWt"
      }
    },
    {
      "cell_type": "code",
      "source": [
        "# visualizing age distribution\n",
        "titanic_df.Age.hist(bins=80)"
      ],
      "metadata": {
        "execution": {
          "iopub.status.busy": "2023-01-31T18:24:25.542201Z",
          "iopub.execute_input": "2023-01-31T18:24:25.54243Z",
          "iopub.status.idle": "2023-01-31T18:24:25.791211Z",
          "shell.execute_reply.started": "2023-01-31T18:24:25.542406Z",
          "shell.execute_reply": "2023-01-31T18:24:25.790266Z"
        },
        "trusted": true,
        "id": "jnikXxzapNWt"
      },
      "execution_count": null,
      "outputs": []
    },
    {
      "cell_type": "markdown",
      "source": [
        "### We can compare the age distribution of male and female using a FacetGrid for the plots"
      ],
      "metadata": {
        "id": "wv2G93SoFxKI"
      }
    },
    {
      "cell_type": "code",
      "source": [
        "fig = sns.FacetGrid(titanic_df, hue=\"Sex\", aspect=3)\n",
        "fig.map(sns.histplot, 'Age', bins=80, alpha=0.5)\n",
        "fig.add_legend()"
      ],
      "metadata": {
        "id": "K775xlJQF3YG"
      },
      "execution_count": null,
      "outputs": []
    },
    {
      "cell_type": "markdown",
      "source": [
        "### We can \"smoothhe\" out the distribution using a Kernal Density Estimate (KDE)"
      ],
      "metadata": {
        "id": "-iUfwa7pHZ4R"
      }
    },
    {
      "cell_type": "code",
      "source": [
        "# Another way to visualize the data is to use FacetGrid to plot multiple kedplots on one plot\n",
        "\n",
        "fig = sns.FacetGrid(titanic_df, hue=\"Sex\", aspect=4)\n",
        "fig.map(sns.kdeplot, 'Age', fill=True)\n",
        "\n",
        "oldest = titanic_df['Age'].max()\n",
        "\n",
        "fig.set(xlim=(0, oldest))\n",
        "\n",
        "fig.add_legend()"
      ],
      "metadata": {
        "execution": {
          "iopub.status.busy": "2023-01-31T18:24:25.794335Z",
          "iopub.execute_input": "2023-01-31T18:24:25.794591Z",
          "iopub.status.idle": "2023-01-31T18:24:26.072398Z",
          "shell.execute_reply.started": "2023-01-31T18:24:25.794568Z",
          "shell.execute_reply": "2023-01-31T18:24:26.071315Z"
        },
        "trusted": true,
        "id": "jChaPmyfpNWt"
      },
      "execution_count": null,
      "outputs": []
    },
    {
      "cell_type": "code",
      "source": [
        "# We could have done the same thing for the 'person' column to include children:\n",
        "\n",
        "fig = sns.FacetGrid(titanic_df, hue=\"Person\",aspect=4)\n",
        "fig.map(sns.kdeplot, 'Age', fill=True)\n",
        "\n",
        "oldest = titanic_df['Age'].max()\n",
        "\n",
        "fig.set(xlim=(0, oldest))\n",
        "\n",
        "fig.add_legend()"
      ],
      "metadata": {
        "execution": {
          "iopub.status.busy": "2023-01-31T18:24:26.073661Z",
          "iopub.execute_input": "2023-01-31T18:24:26.075308Z",
          "iopub.status.idle": "2023-01-31T18:24:26.341487Z",
          "shell.execute_reply.started": "2023-01-31T18:24:26.075273Z",
          "shell.execute_reply": "2023-01-31T18:24:26.340887Z"
        },
        "trusted": true,
        "id": "YX7Cm6h1pNWt"
      },
      "execution_count": null,
      "outputs": []
    },
    {
      "cell_type": "code",
      "source": [
        "# Let's do the same for class by changing the hue argument:\n",
        "\n",
        "fig = sns.FacetGrid(titanic_df, hue=\"Pclass\",aspect=4)\n",
        "fig.map(sns.kdeplot, 'Age', fill=True)\n",
        "\n",
        "oldest = titanic_df['Age'].max()\n",
        "\n",
        "fig.set(xlim=(0, oldest))\n",
        "\n",
        "fig.add_legend()"
      ],
      "metadata": {
        "execution": {
          "iopub.status.busy": "2023-01-31T18:24:26.342432Z",
          "iopub.execute_input": "2023-01-31T18:24:26.342788Z",
          "iopub.status.idle": "2023-01-31T18:24:26.611677Z",
          "shell.execute_reply.started": "2023-01-31T18:24:26.342765Z",
          "shell.execute_reply": "2023-01-31T18:24:26.610845Z"
        },
        "trusted": true,
        "id": "aV0_7JAdpNWt"
      },
      "execution_count": null,
      "outputs": []
    },
    {
      "cell_type": "markdown",
      "source": [
        "We've gotten a pretty good picture of who the passengers were based on Sex, Age, and Class. So let's move on to our 2nd question: What deck were the passengers on and how does that relate to their class?"
      ],
      "metadata": {
        "id": "9yA-GfpLpNWu"
      }
    },
    {
      "cell_type": "markdown",
      "source": [
        "# 2. What deck were the passengers on and how does that relate to their class?"
      ],
      "metadata": {
        "id": "PzjZusrkpNWu"
      }
    },
    {
      "cell_type": "code",
      "source": [
        "# visualizing the dataset again\n",
        "titanic_df.head()"
      ],
      "metadata": {
        "execution": {
          "iopub.status.busy": "2023-01-31T18:24:26.612738Z",
          "iopub.execute_input": "2023-01-31T18:24:26.612998Z",
          "iopub.status.idle": "2023-01-31T18:24:26.626845Z",
          "shell.execute_reply.started": "2023-01-31T18:24:26.612969Z",
          "shell.execute_reply": "2023-01-31T18:24:26.626029Z"
        },
        "trusted": true,
        "id": "Gq3NASgJpNWu"
      },
      "execution_count": null,
      "outputs": []
    },
    {
      "cell_type": "markdown",
      "source": [
        "So we can see that the Cabin column has information on the deck, but it has several NaN values, so we'll have to drop them."
      ],
      "metadata": {
        "id": "Va3YXRgGpNWu"
      }
    },
    {
      "cell_type": "code",
      "source": [
        "# First we'll drop the NaN values and create a new object, deck\n",
        "deck = titanic_df['Cabin'].dropna()\n",
        "deck"
      ],
      "metadata": {
        "execution": {
          "iopub.status.busy": "2023-01-31T18:24:26.628128Z",
          "iopub.execute_input": "2023-01-31T18:24:26.628421Z",
          "iopub.status.idle": "2023-01-31T18:24:26.637438Z",
          "shell.execute_reply.started": "2023-01-31T18:24:26.62839Z",
          "shell.execute_reply": "2023-01-31T18:24:26.63662Z"
        },
        "trusted": true,
        "id": "mxIrxlTfpNWu"
      },
      "execution_count": null,
      "outputs": []
    },
    {
      "cell_type": "code",
      "source": [],
      "metadata": {
        "id": "KtSB1m2_Jj32"
      },
      "execution_count": null,
      "outputs": []
    },
    {
      "cell_type": "markdown",
      "source": [
        "Notice we only need the first letter of the deck to classify its level (e.g. A, B, C, D, E, F, G)"
      ],
      "metadata": {
        "id": "ST3Lk5LlpNWu"
      }
    },
    {
      "cell_type": "code",
      "source": [
        "# let's grab that letter for the deck level with a simple for loop\n",
        "levels = []\n",
        "for level in deck:\n",
        "    levels.append(level[0])\n",
        "\n",
        "cabin_df = pd.DataFrame(levels)\n",
        "cabin_df.columns = ['Cabin']\n",
        "cabin_df.sort_values(by='Cabin', inplace=True)\n",
        "sns.catplot(x='Cabin', data=cabin_df, kind='count', hue='Cabin' , legend=False, palette='winter_d')"
      ],
      "metadata": {
        "execution": {
          "iopub.status.busy": "2023-01-31T18:24:26.638603Z",
          "iopub.execute_input": "2023-01-31T18:24:26.638892Z",
          "iopub.status.idle": "2023-01-31T18:24:26.820324Z",
          "shell.execute_reply.started": "2023-01-31T18:24:26.638862Z",
          "shell.execute_reply": "2023-01-31T18:24:26.819425Z"
        },
        "trusted": true,
        "id": "FtToz-JQpNWu"
      },
      "execution_count": null,
      "outputs": []
    },
    {
      "cell_type": "markdown",
      "source": [
        "Interesting to note we have a 'T' deck value there which doesn't make sense, we  can drop it out with the following code:"
      ],
      "metadata": {
        "id": "qgGegC-zpNWu"
      }
    },
    {
      "cell_type": "code",
      "source": [
        "cabin_df = cabin_df[cabin_df.Cabin != 'T']\n",
        "sns.catplot(x='Cabin', data=cabin_df, kind='count', palette='summer')"
      ],
      "metadata": {
        "execution": {
          "iopub.status.busy": "2023-01-31T18:24:26.821696Z",
          "iopub.execute_input": "2023-01-31T18:24:26.82192Z",
          "iopub.status.idle": "2023-01-31T18:24:27.001407Z",
          "shell.execute_reply.started": "2023-01-31T18:24:26.821897Z",
          "shell.execute_reply": "2023-01-31T18:24:27.000372Z"
        },
        "trusted": true,
        "id": "iDBvm9jepNWu"
      },
      "execution_count": null,
      "outputs": []
    },
    {
      "cell_type": "markdown",
      "source": [
        "Great now that we've analyzed the distribution by decks, let's go ahead and answer our third question."
      ],
      "metadata": {
        "id": "vDXvLPv8pNWu"
      }
    },
    {
      "cell_type": "markdown",
      "source": [
        "# 3. Where did the passengers come from?"
      ],
      "metadata": {
        "id": "JOvz0PQVpNWu"
      }
    },
    {
      "cell_type": "code",
      "source": [
        "titanic_df.head()"
      ],
      "metadata": {
        "execution": {
          "iopub.status.busy": "2023-01-31T18:24:27.002889Z",
          "iopub.execute_input": "2023-01-31T18:24:27.00325Z",
          "iopub.status.idle": "2023-01-31T18:24:27.01743Z",
          "shell.execute_reply.started": "2023-01-31T18:24:27.003221Z",
          "shell.execute_reply": "2023-01-31T18:24:27.016499Z"
        },
        "trusted": true,
        "id": "ZQuNArXcpNWu"
      },
      "execution_count": null,
      "outputs": []
    },
    {
      "cell_type": "markdown",
      "source": [
        "Note here that the Embarked column has C, Q, and S values. Reading about the project on Kaggle you'll note that these stand for Cherbourg, Queenstown, Southhampton."
      ],
      "metadata": {
        "id": "8C0Eg0sEpNWu"
      }
    },
    {
      "cell_type": "code",
      "source": [
        "# Now we can make a quick factorplot to check out the results, note the\n",
        "# order argument, used to deal with NaN values\n",
        "\n",
        "sns.catplot(x='Embarked', data=titanic_df, hue='Pclass', kind='count', order=['C', 'Q', 'S'])"
      ],
      "metadata": {
        "execution": {
          "iopub.status.busy": "2023-01-31T18:24:27.018219Z",
          "iopub.execute_input": "2023-01-31T18:24:27.018438Z",
          "iopub.status.idle": "2023-01-31T18:24:27.262004Z",
          "shell.execute_reply.started": "2023-01-31T18:24:27.018417Z",
          "shell.execute_reply": "2023-01-31T18:24:27.261271Z"
        },
        "trusted": true,
        "id": "ptP3LOyupNWu"
      },
      "execution_count": null,
      "outputs": []
    },
    {
      "cell_type": "markdown",
      "source": [
        "An interesting find here is that in Queenstown, almost all the passengers that boarded there were 3rd class. It would be intersting to look at the economics of that town in that time period for further investigation."
      ],
      "metadata": {
        "id": "WQlf7p7fpNWu"
      }
    },
    {
      "cell_type": "markdown",
      "source": [
        "# 4. Who was alone and who was with family?"
      ],
      "metadata": {
        "id": "uYVCiWompNWv"
      }
    },
    {
      "cell_type": "code",
      "source": [
        "titanic_df.head()"
      ],
      "metadata": {
        "execution": {
          "iopub.status.busy": "2023-01-31T18:24:27.264766Z",
          "iopub.execute_input": "2023-01-31T18:24:27.265029Z",
          "iopub.status.idle": "2023-01-31T18:24:27.279436Z",
          "shell.execute_reply.started": "2023-01-31T18:24:27.265005Z",
          "shell.execute_reply": "2023-01-31T18:24:27.277905Z"
        },
        "trusted": true,
        "id": "HxUbQbnwpNWv"
      },
      "execution_count": null,
      "outputs": []
    },
    {
      "cell_type": "code",
      "source": [
        "# Let's start by adding a new column to define alone\n",
        "# We'll add the parent/child column with the sibsp column\n",
        "\n",
        "titanic_df['Alone'] = titanic_df.SibSp + titanic_df.Parch\n",
        "titanic_df.Alone"
      ],
      "metadata": {
        "execution": {
          "iopub.status.busy": "2023-01-31T18:24:27.280557Z",
          "iopub.execute_input": "2023-01-31T18:24:27.280847Z",
          "iopub.status.idle": "2023-01-31T18:24:27.291545Z",
          "shell.execute_reply.started": "2023-01-31T18:24:27.28082Z",
          "shell.execute_reply": "2023-01-31T18:24:27.290672Z"
        },
        "trusted": true,
        "id": "63JYNrWApNWw"
      },
      "execution_count": null,
      "outputs": []
    },
    {
      "cell_type": "markdown",
      "source": [
        "Now we know that if the Alone column is anything but 0, then the passenger had family aboard and wasn't alone. So let's change the column now so that if the value is greater than 0, we know the passenger was with his/her family, otherwise they were alone."
      ],
      "metadata": {
        "id": "1EjGrc3zpNWw"
      }
    },
    {
      "cell_type": "code",
      "source": [
        "# Look for > 0 or == 0 to set alone status\n",
        "titanic_df.loc[titanic_df['Alone'] > 0, 'Alone'] = 'with Family'\n",
        "titanic_df.loc[titanic_df['Alone'] == 0, 'Alone'] = 'Alone'"
      ],
      "metadata": {
        "execution": {
          "iopub.status.busy": "2023-01-31T18:24:27.293013Z",
          "iopub.execute_input": "2023-01-31T18:24:27.293287Z",
          "iopub.status.idle": "2023-01-31T18:24:27.301788Z",
          "shell.execute_reply.started": "2023-01-31T18:24:27.293263Z",
          "shell.execute_reply": "2023-01-31T18:24:27.300933Z"
        },
        "trusted": true,
        "id": "P7vsyx0opNWw"
      },
      "execution_count": null,
      "outputs": []
    },
    {
      "cell_type": "code",
      "source": [
        "# Let's check to make sure it worked\n",
        "titanic_df.head()"
      ],
      "metadata": {
        "execution": {
          "iopub.status.busy": "2023-01-31T18:24:27.302877Z",
          "iopub.execute_input": "2023-01-31T18:24:27.303222Z",
          "iopub.status.idle": "2023-01-31T18:24:27.321909Z",
          "shell.execute_reply.started": "2023-01-31T18:24:27.303196Z",
          "shell.execute_reply": "2023-01-31T18:24:27.320897Z"
        },
        "trusted": true,
        "id": "6t49AekLpNWw"
      },
      "execution_count": null,
      "outputs": []
    },
    {
      "cell_type": "code",
      "source": [
        "# Now let's get a simple visualization!\n",
        "sns.catplot(x='Alone', data=titanic_df, kind='count', hue = 'Alone',  palette='Blues',\n",
        "            order=['Alone', 'with Family'])"
      ],
      "metadata": {
        "execution": {
          "iopub.status.busy": "2023-01-31T18:24:27.32323Z",
          "iopub.execute_input": "2023-01-31T18:24:27.323515Z",
          "iopub.status.idle": "2023-01-31T18:24:27.456845Z",
          "shell.execute_reply.started": "2023-01-31T18:24:27.32349Z",
          "shell.execute_reply": "2023-01-31T18:24:27.456115Z"
        },
        "trusted": true,
        "id": "znO4tOOUpNWw"
      },
      "execution_count": null,
      "outputs": []
    },
    {
      "cell_type": "markdown",
      "source": [
        "Great work! Now that we've throughly analyzed the data let's go ahead and take a look at the most interesting (and open-ended) question: *What factors helped someone survive the sinking?*"
      ],
      "metadata": {
        "id": "oat0KdsspNWw"
      }
    },
    {
      "cell_type": "markdown",
      "source": [
        "# 5. What factors helped someone survive the sinking?"
      ],
      "metadata": {
        "id": "E5987vE8pNWw"
      }
    },
    {
      "cell_type": "code",
      "source": [
        "# Let's start by creating a new column for legibility purposes through mapping\n",
        "titanic_df['Survivor'] = titanic_df.Survived.map({0:'No', 1:'Yes'})\n",
        "\n",
        "# Let's just get a quick overall view of survied vs died.\n",
        "sns.catplot(x='Survivor', data=titanic_df, kind='count')"
      ],
      "metadata": {
        "execution": {
          "iopub.status.busy": "2023-01-31T18:24:27.457712Z",
          "iopub.execute_input": "2023-01-31T18:24:27.458012Z",
          "iopub.status.idle": "2023-01-31T18:24:27.586724Z",
          "shell.execute_reply.started": "2023-01-31T18:24:27.457987Z",
          "shell.execute_reply": "2023-01-31T18:24:27.585837Z"
        },
        "trusted": true,
        "id": "D5dpYjhrpNWw"
      },
      "execution_count": null,
      "outputs": []
    },
    {
      "cell_type": "markdown",
      "source": [
        "So quite a few more people died than those who survived. Let's see if the class of the passengers had an effect on their survival rate, since the movie Titanic popularized the notion that the 3rd class passengers did not do as well as their 1st and 2nd class counterparts."
      ],
      "metadata": {
        "id": "MQtHVcOkpNWw"
      }
    },
    {
      "cell_type": "code",
      "source": [
        "# Let's use a factor plot again, but now considering class\n",
        "sns.catplot(x='Pclass', y='Survived', data=titanic_df, kind='point')"
      ],
      "metadata": {
        "execution": {
          "iopub.status.busy": "2023-01-31T18:24:27.58882Z",
          "iopub.execute_input": "2023-01-31T18:24:27.589612Z",
          "iopub.status.idle": "2023-01-31T18:24:27.832537Z",
          "shell.execute_reply.started": "2023-01-31T18:24:27.589579Z",
          "shell.execute_reply": "2023-01-31T18:24:27.83148Z"
        },
        "trusted": true,
        "id": "EL--DRONpNWw"
      },
      "execution_count": null,
      "outputs": []
    },
    {
      "cell_type": "markdown",
      "source": [
        "Look like survival rates for the 3rd class are substantially lower! But maybe this effect is being caused by the large amount of men in the 3rd class in combination with the women and children first policy. Let's use 'hue' to get a clearer picture on this."
      ],
      "metadata": {
        "id": "mCeviZx4pNWw"
      }
    },
    {
      "cell_type": "code",
      "source": [
        "# Let's use a factor plot again, but now considering class and gender\n",
        "sns.catplot(x='Pclass', y='Survived', data=titanic_df, hue='Person', kind='point')"
      ],
      "metadata": {
        "execution": {
          "iopub.status.busy": "2023-01-31T18:24:27.834023Z",
          "iopub.execute_input": "2023-01-31T18:24:27.834608Z",
          "iopub.status.idle": "2023-01-31T18:24:28.351923Z",
          "shell.execute_reply.started": "2023-01-31T18:24:27.834561Z",
          "shell.execute_reply": "2023-01-31T18:24:28.351094Z"
        },
        "trusted": true,
        "id": "Eb4f4YbvpNW2"
      },
      "execution_count": null,
      "outputs": []
    },
    {
      "cell_type": "markdown",
      "source": [
        "From this data it looks like being a male or being in 3rd class were both not favourable for survival. Even regardless of class the result of being a male in any class dramatically decreases your chances of survival.\n",
        "\n",
        "But what about age? Did being younger or older have an effect on survival rate?"
      ],
      "metadata": {
        "id": "5D5QSfLXpNW2"
      }
    },
    {
      "cell_type": "code",
      "source": [
        "# Let's use a linear plot on age versus survival\n",
        "sns.lmplot(x='Age', y='Survived', data=titanic_df)"
      ],
      "metadata": {
        "execution": {
          "iopub.status.busy": "2023-01-31T18:24:28.353003Z",
          "iopub.execute_input": "2023-01-31T18:24:28.353301Z",
          "iopub.status.idle": "2023-01-31T18:24:28.769219Z",
          "shell.execute_reply.started": "2023-01-31T18:24:28.353277Z",
          "shell.execute_reply": "2023-01-31T18:24:28.768239Z"
        },
        "trusted": true,
        "id": "_mnCPKvTpNW2"
      },
      "execution_count": null,
      "outputs": []
    },
    {
      "cell_type": "markdown",
      "source": [
        "Looks like there is a general trend that the older the passenger was, the less likely they survived. Let's go ahead and use hue to take a look at the effect of class and age."
      ],
      "metadata": {
        "id": "gE5Tzi2ppNW2"
      }
    },
    {
      "cell_type": "code",
      "source": [
        "# Let's use a linear plot on age versus survival using hue for class seperation\n",
        "sns.lmplot(x='Age', y='Survived',hue='Pclass', data=titanic_df)"
      ],
      "metadata": {
        "execution": {
          "iopub.status.busy": "2023-01-31T18:24:28.773642Z",
          "iopub.execute_input": "2023-01-31T18:24:28.773912Z",
          "iopub.status.idle": "2023-01-31T18:24:29.374314Z",
          "shell.execute_reply.started": "2023-01-31T18:24:28.773888Z",
          "shell.execute_reply": "2023-01-31T18:24:29.373295Z"
        },
        "trusted": true,
        "id": "CmtXutPzpNW2"
      },
      "execution_count": null,
      "outputs": []
    },
    {
      "cell_type": "markdown",
      "source": [
        "We can also use the x_bin argument to clean up this figure and grab the data and bin it by age with a std attached!"
      ],
      "metadata": {
        "id": "JFsZH_4SpNW2"
      }
    },
    {
      "cell_type": "code",
      "source": [
        "# Let's use a linear plot on age versus survival using hue for class seperation\n",
        "generations = [10, 20, 40, 60, 80]\n",
        "sns.lmplot(x='Age', y='Survived', hue='Pclass', data=titanic_df, palette='winter', x_bins=generations)"
      ],
      "metadata": {
        "execution": {
          "iopub.status.busy": "2023-01-31T18:24:29.375624Z",
          "iopub.execute_input": "2023-01-31T18:24:29.376001Z",
          "iopub.status.idle": "2023-01-31T18:24:30.255836Z",
          "shell.execute_reply.started": "2023-01-31T18:24:29.375967Z",
          "shell.execute_reply": "2023-01-31T18:24:30.25503Z"
        },
        "trusted": true,
        "id": "mg5X3ISDpNW2"
      },
      "execution_count": null,
      "outputs": []
    },
    {
      "cell_type": "markdown",
      "source": [
        "Interesting find on the older 1st class passengers! What about if we relate gender and age with the survival set?"
      ],
      "metadata": {
        "id": "j_Jxc7dBpNW2"
      }
    },
    {
      "cell_type": "code",
      "source": [
        "sns.lmplot(x='Age', y='Survived', hue='Sex', data=titanic_df, palette='winter', x_bins=generations)"
      ],
      "metadata": {
        "execution": {
          "iopub.status.busy": "2023-01-31T18:24:30.257024Z",
          "iopub.execute_input": "2023-01-31T18:24:30.257625Z",
          "iopub.status.idle": "2023-01-31T18:24:30.955542Z",
          "shell.execute_reply.started": "2023-01-31T18:24:30.257592Z",
          "shell.execute_reply": "2023-01-31T18:24:30.954637Z"
        },
        "trusted": true,
        "id": "gzp2aZWKpNW2"
      },
      "execution_count": null,
      "outputs": []
    },
    {
      "cell_type": "markdown",
      "source": [
        "Awesome! we've gotten some really great insights on how gender,age, and class all related to a passengers chance of survival. Now you take control: Answer the following question using pandas and seaborn:\n",
        "\n",
        "\n",
        "    Did having a family member increase the odds of surviving the crash?"
      ],
      "metadata": {
        "id": "HSdKBVBEpNW3"
      }
    },
    {
      "cell_type": "markdown",
      "source": [
        "## References:\n",
        "- [Jose Portilla Udemy Course: Learning Python for Data Analysis and Visualization](https://www.udemy.com/course/learning-python-for-data-analysis-and-visualization/)"
      ],
      "metadata": {
        "id": "-hv6gmbypNW3"
      }
    }
  ]
}